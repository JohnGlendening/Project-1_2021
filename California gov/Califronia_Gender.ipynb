{
 "cells": [
  {
   "cell_type": "code",
   "execution_count": 2,
   "metadata": {},
   "outputs": [],
   "source": [
    "# Dependencies and Setup\n",
    "import matplotlib.pyplot as plt\n",
    "import pandas as pd\n",
    "import scipy.stats as st\n",
    "import numpy as np\n",
    "from scipy.stats import sem\n",
    "import random\n",
    "from scipy.stats import linregress\n",
    "from sklearn import datasets\n",
    "import scipy.stats as sts\n",
    "import requests\n",
    "import time\n",
    "from scipy.stats import linregress"
   ]
  },
  {
   "cell_type": "code",
   "execution_count": 3,
   "metadata": {},
   "outputs": [],
   "source": [
    "# File to Load (Remember to Change These)\n",
    "file1=\"case_demographics_sex.csv\"\n",
    "\n",
    "# Read Purchasing File and store into Pandas data frame\n",
    "\n",
    "df= pd.read_csv(file1)"
   ]
  },
  {
   "cell_type": "code",
   "execution_count": 4,
   "metadata": {},
   "outputs": [
    {
     "data": {
      "text/html": [
       "<div>\n",
       "<style scoped>\n",
       "    .dataframe tbody tr th:only-of-type {\n",
       "        vertical-align: middle;\n",
       "    }\n",
       "\n",
       "    .dataframe tbody tr th {\n",
       "        vertical-align: top;\n",
       "    }\n",
       "\n",
       "    .dataframe thead th {\n",
       "        text-align: right;\n",
       "    }\n",
       "</style>\n",
       "<table border=\"1\" class=\"dataframe\">\n",
       "  <thead>\n",
       "    <tr style=\"text-align: right;\">\n",
       "      <th></th>\n",
       "      <th>sex</th>\n",
       "      <th>totalpositive2</th>\n",
       "      <th>date</th>\n",
       "      <th>case_percent</th>\n",
       "      <th>deaths</th>\n",
       "      <th>deaths_percent</th>\n",
       "      <th>ca_percent</th>\n",
       "    </tr>\n",
       "  </thead>\n",
       "  <tbody>\n",
       "    <tr>\n",
       "      <th>0</th>\n",
       "      <td>Female</td>\n",
       "      <td>5015</td>\n",
       "      <td>4/2/2020</td>\n",
       "      <td>NaN</td>\n",
       "      <td>NaN</td>\n",
       "      <td>NaN</td>\n",
       "      <td>NaN</td>\n",
       "    </tr>\n",
       "    <tr>\n",
       "      <th>1</th>\n",
       "      <td>Male</td>\n",
       "      <td>5547</td>\n",
       "      <td>4/2/2020</td>\n",
       "      <td>NaN</td>\n",
       "      <td>NaN</td>\n",
       "      <td>NaN</td>\n",
       "      <td>NaN</td>\n",
       "    </tr>\n",
       "    <tr>\n",
       "      <th>2</th>\n",
       "      <td>Unknown</td>\n",
       "      <td>139</td>\n",
       "      <td>4/2/2020</td>\n",
       "      <td>NaN</td>\n",
       "      <td>NaN</td>\n",
       "      <td>NaN</td>\n",
       "      <td>NaN</td>\n",
       "    </tr>\n",
       "    <tr>\n",
       "      <th>3</th>\n",
       "      <td>Female</td>\n",
       "      <td>5674</td>\n",
       "      <td>4/3/2020</td>\n",
       "      <td>NaN</td>\n",
       "      <td>NaN</td>\n",
       "      <td>NaN</td>\n",
       "      <td>NaN</td>\n",
       "    </tr>\n",
       "    <tr>\n",
       "      <th>4</th>\n",
       "      <td>Male</td>\n",
       "      <td>6202</td>\n",
       "      <td>4/3/2020</td>\n",
       "      <td>NaN</td>\n",
       "      <td>NaN</td>\n",
       "      <td>NaN</td>\n",
       "      <td>NaN</td>\n",
       "    </tr>\n",
       "    <tr>\n",
       "      <th>...</th>\n",
       "      <td>...</td>\n",
       "      <td>...</td>\n",
       "      <td>...</td>\n",
       "      <td>...</td>\n",
       "      <td>...</td>\n",
       "      <td>...</td>\n",
       "      <td>...</td>\n",
       "    </tr>\n",
       "    <tr>\n",
       "      <th>1980</th>\n",
       "      <td>Unknown</td>\n",
       "      <td>51284</td>\n",
       "      <td>2/23/2021</td>\n",
       "      <td>1.5</td>\n",
       "      <td>242</td>\n",
       "      <td>0.5</td>\n",
       "      <td>0</td>\n",
       "    </tr>\n",
       "    <tr>\n",
       "      <th>1981</th>\n",
       "      <td>Female</td>\n",
       "      <td>1757746</td>\n",
       "      <td>2/24/2021</td>\n",
       "      <td>50.8</td>\n",
       "      <td>20985</td>\n",
       "      <td>41.4</td>\n",
       "      <td>50.3</td>\n",
       "    </tr>\n",
       "    <tr>\n",
       "      <th>1982</th>\n",
       "      <td>Male</td>\n",
       "      <td>1651296</td>\n",
       "      <td>2/24/2021</td>\n",
       "      <td>47.7</td>\n",
       "      <td>29420</td>\n",
       "      <td>58.1</td>\n",
       "      <td>49.7</td>\n",
       "    </tr>\n",
       "    <tr>\n",
       "      <th>1983</th>\n",
       "      <td>Unknown</td>\n",
       "      <td>51284</td>\n",
       "      <td>2/24/2021</td>\n",
       "      <td>1.5</td>\n",
       "      <td>243</td>\n",
       "      <td>0.5</td>\n",
       "      <td>0</td>\n",
       "    </tr>\n",
       "    <tr>\n",
       "      <th>1984</th>\n",
       "      <td>&gt;&gt;&gt;&gt;&gt;&gt;&gt; e803abca8ad3094f0700bcf3636bd9417aa87c4f</td>\n",
       "      <td>NaN</td>\n",
       "      <td>NaN</td>\n",
       "      <td>NaN</td>\n",
       "      <td>NaN</td>\n",
       "      <td>NaN</td>\n",
       "      <td>NaN</td>\n",
       "    </tr>\n",
       "  </tbody>\n",
       "</table>\n",
       "<p>1985 rows × 7 columns</p>\n",
       "</div>"
      ],
      "text/plain": [
       "                                                   sex totalpositive2  \\\n",
       "0                                               Female           5015   \n",
       "1                                                 Male           5547   \n",
       "2                                              Unknown            139   \n",
       "3                                               Female           5674   \n",
       "4                                                 Male           6202   \n",
       "...                                                ...            ...   \n",
       "1980                                           Unknown          51284   \n",
       "1981                                            Female        1757746   \n",
       "1982                                              Male        1651296   \n",
       "1983                                           Unknown          51284   \n",
       "1984  >>>>>>> e803abca8ad3094f0700bcf3636bd9417aa87c4f            NaN   \n",
       "\n",
       "           date case_percent deaths deaths_percent ca_percent  \n",
       "0      4/2/2020          NaN    NaN            NaN        NaN  \n",
       "1      4/2/2020          NaN    NaN            NaN        NaN  \n",
       "2      4/2/2020          NaN    NaN            NaN        NaN  \n",
       "3      4/3/2020          NaN    NaN            NaN        NaN  \n",
       "4      4/3/2020          NaN    NaN            NaN        NaN  \n",
       "...         ...          ...    ...            ...        ...  \n",
       "1980  2/23/2021          1.5    242            0.5          0  \n",
       "1981  2/24/2021         50.8  20985           41.4       50.3  \n",
       "1982  2/24/2021         47.7  29420           58.1       49.7  \n",
       "1983  2/24/2021          1.5    243            0.5          0  \n",
       "1984        NaN          NaN    NaN            NaN        NaN  \n",
       "\n",
       "[1985 rows x 7 columns]"
      ]
     },
     "execution_count": 4,
     "metadata": {},
     "output_type": "execute_result"
    }
   ],
   "source": [
    "df"
   ]
  },
  {
   "cell_type": "code",
   "execution_count": 5,
   "metadata": {},
   "outputs": [
    {
     "data": {
      "text/html": [
       "<div>\n",
       "<style scoped>\n",
       "    .dataframe tbody tr th:only-of-type {\n",
       "        vertical-align: middle;\n",
       "    }\n",
       "\n",
       "    .dataframe tbody tr th {\n",
       "        vertical-align: top;\n",
       "    }\n",
       "\n",
       "    .dataframe thead th {\n",
       "        text-align: right;\n",
       "    }\n",
       "</style>\n",
       "<table border=\"1\" class=\"dataframe\">\n",
       "  <thead>\n",
       "    <tr style=\"text-align: right;\">\n",
       "      <th></th>\n",
       "      <th>sex</th>\n",
       "      <th>totalpositive2</th>\n",
       "      <th>date</th>\n",
       "      <th>case_percent</th>\n",
       "      <th>deaths</th>\n",
       "      <th>deaths_percent</th>\n",
       "      <th>ca_percent</th>\n",
       "    </tr>\n",
       "  </thead>\n",
       "  <tbody>\n",
       "    <tr>\n",
       "      <th>64</th>\n",
       "      <td>Female</td>\n",
       "      <td>18395</td>\n",
       "      <td>4/22/2020</td>\n",
       "      <td>49.23</td>\n",
       "      <td>552</td>\n",
       "      <td>39.54</td>\n",
       "      <td>50.31</td>\n",
       "    </tr>\n",
       "    <tr>\n",
       "      <th>65</th>\n",
       "      <td>Male</td>\n",
       "      <td>18690</td>\n",
       "      <td>4/22/2020</td>\n",
       "      <td>50.01</td>\n",
       "      <td>839</td>\n",
       "      <td>60.1</td>\n",
       "      <td>49.69</td>\n",
       "    </tr>\n",
       "    <tr>\n",
       "      <th>67</th>\n",
       "      <td>Female</td>\n",
       "      <td>19394</td>\n",
       "      <td>4/23/2020</td>\n",
       "      <td>49.41</td>\n",
       "      <td>593</td>\n",
       "      <td>39.82</td>\n",
       "      <td>50.31</td>\n",
       "    </tr>\n",
       "    <tr>\n",
       "      <th>68</th>\n",
       "      <td>Male</td>\n",
       "      <td>19577</td>\n",
       "      <td>4/23/2020</td>\n",
       "      <td>49.87</td>\n",
       "      <td>891</td>\n",
       "      <td>59.84</td>\n",
       "      <td>49.69</td>\n",
       "    </tr>\n",
       "    <tr>\n",
       "      <th>70</th>\n",
       "      <td>Female</td>\n",
       "      <td>20395</td>\n",
       "      <td>4/24/2020</td>\n",
       "      <td>49.58</td>\n",
       "      <td>625</td>\n",
       "      <td>39.73</td>\n",
       "      <td>50.31</td>\n",
       "    </tr>\n",
       "    <tr>\n",
       "      <th>...</th>\n",
       "      <td>...</td>\n",
       "      <td>...</td>\n",
       "      <td>...</td>\n",
       "      <td>...</td>\n",
       "      <td>...</td>\n",
       "      <td>...</td>\n",
       "      <td>...</td>\n",
       "    </tr>\n",
       "    <tr>\n",
       "      <th>1979</th>\n",
       "      <td>Male</td>\n",
       "      <td>1648874</td>\n",
       "      <td>2/23/2021</td>\n",
       "      <td>47.7</td>\n",
       "      <td>28748</td>\n",
       "      <td>58.1</td>\n",
       "      <td>49.7</td>\n",
       "    </tr>\n",
       "    <tr>\n",
       "      <th>1980</th>\n",
       "      <td>Unknown</td>\n",
       "      <td>51284</td>\n",
       "      <td>2/23/2021</td>\n",
       "      <td>1.5</td>\n",
       "      <td>242</td>\n",
       "      <td>0.5</td>\n",
       "      <td>0</td>\n",
       "    </tr>\n",
       "    <tr>\n",
       "      <th>1981</th>\n",
       "      <td>Female</td>\n",
       "      <td>1757746</td>\n",
       "      <td>2/24/2021</td>\n",
       "      <td>50.8</td>\n",
       "      <td>20985</td>\n",
       "      <td>41.4</td>\n",
       "      <td>50.3</td>\n",
       "    </tr>\n",
       "    <tr>\n",
       "      <th>1982</th>\n",
       "      <td>Male</td>\n",
       "      <td>1651296</td>\n",
       "      <td>2/24/2021</td>\n",
       "      <td>47.7</td>\n",
       "      <td>29420</td>\n",
       "      <td>58.1</td>\n",
       "      <td>49.7</td>\n",
       "    </tr>\n",
       "    <tr>\n",
       "      <th>1983</th>\n",
       "      <td>Unknown</td>\n",
       "      <td>51284</td>\n",
       "      <td>2/24/2021</td>\n",
       "      <td>1.5</td>\n",
       "      <td>243</td>\n",
       "      <td>0.5</td>\n",
       "      <td>0</td>\n",
       "    </tr>\n",
       "  </tbody>\n",
       "</table>\n",
       "<p>1835 rows × 7 columns</p>\n",
       "</div>"
      ],
      "text/plain": [
       "          sex totalpositive2       date case_percent deaths deaths_percent  \\\n",
       "64     Female          18395  4/22/2020        49.23    552          39.54   \n",
       "65       Male          18690  4/22/2020        50.01    839           60.1   \n",
       "67     Female          19394  4/23/2020        49.41    593          39.82   \n",
       "68       Male          19577  4/23/2020        49.87    891          59.84   \n",
       "70     Female          20395  4/24/2020        49.58    625          39.73   \n",
       "...       ...            ...        ...          ...    ...            ...   \n",
       "1979     Male        1648874  2/23/2021         47.7  28748           58.1   \n",
       "1980  Unknown          51284  2/23/2021          1.5    242            0.5   \n",
       "1981   Female        1757746  2/24/2021         50.8  20985           41.4   \n",
       "1982     Male        1651296  2/24/2021         47.7  29420           58.1   \n",
       "1983  Unknown          51284  2/24/2021          1.5    243            0.5   \n",
       "\n",
       "     ca_percent  \n",
       "64        50.31  \n",
       "65        49.69  \n",
       "67        50.31  \n",
       "68        49.69  \n",
       "70        50.31  \n",
       "...         ...  \n",
       "1979       49.7  \n",
       "1980          0  \n",
       "1981       50.3  \n",
       "1982       49.7  \n",
       "1983          0  \n",
       "\n",
       "[1835 rows x 7 columns]"
      ]
     },
     "execution_count": 5,
     "metadata": {},
     "output_type": "execute_result"
    }
   ],
   "source": [
    "gender_df=df.dropna(how=\"any\")\n",
    "gender_df"
   ]
  },
  {
   "cell_type": "code",
   "execution_count": 6,
   "metadata": {},
   "outputs": [
    {
     "data": {
      "text/plain": [
       "sex               1835\n",
       "totalpositive2    1835\n",
       "date              1835\n",
       "case_percent      1835\n",
       "deaths            1835\n",
       "deaths_percent    1835\n",
       "ca_percent        1835\n",
       "dtype: int64"
      ]
     },
     "execution_count": 6,
     "metadata": {},
     "output_type": "execute_result"
    }
   ],
   "source": [
    "gender_df.count()"
   ]
  },
  {
   "cell_type": "code",
   "execution_count": 7,
   "metadata": {},
   "outputs": [
    {
     "data": {
      "text/plain": [
       "sex                 4\n",
       "totalpositive2    900\n",
       "date              310\n",
       "case_percent       62\n",
       "deaths            701\n",
       "deaths_percent     86\n",
       "ca_percent          6\n",
       "dtype: int64"
      ]
     },
     "execution_count": 7,
     "metadata": {},
     "output_type": "execute_result"
    }
   ],
   "source": [
    "gender_df.nunique()"
   ]
  },
  {
   "cell_type": "code",
   "execution_count": 8,
   "metadata": {},
   "outputs": [
    {
     "data": {
      "text/plain": [
       "Male       618\n",
       "Female     618\n",
       "Unknown    598\n",
       "sex          1\n",
       "Name: sex, dtype: int64"
      ]
     },
     "execution_count": 8,
     "metadata": {},
     "output_type": "execute_result"
    }
   ],
   "source": [
    "gender_df[\"sex\"].value_counts()\n"
   ]
  },
  {
   "cell_type": "code",
   "execution_count": 9,
   "metadata": {},
   "outputs": [
    {
     "data": {
      "text/html": [
       "<div>\n",
       "<style scoped>\n",
       "    .dataframe tbody tr th:only-of-type {\n",
       "        vertical-align: middle;\n",
       "    }\n",
       "\n",
       "    .dataframe tbody tr th {\n",
       "        vertical-align: top;\n",
       "    }\n",
       "\n",
       "    .dataframe thead th {\n",
       "        text-align: right;\n",
       "    }\n",
       "</style>\n",
       "<table border=\"1\" class=\"dataframe\">\n",
       "  <thead>\n",
       "    <tr style=\"text-align: right;\">\n",
       "      <th></th>\n",
       "      <th>sex</th>\n",
       "      <th>totalpositive2</th>\n",
       "      <th>date</th>\n",
       "      <th>case_percent</th>\n",
       "      <th>deaths</th>\n",
       "      <th>deaths_percent</th>\n",
       "      <th>ca_percent</th>\n",
       "    </tr>\n",
       "  </thead>\n",
       "  <tbody>\n",
       "    <tr>\n",
       "      <th>992</th>\n",
       "      <td>sex</td>\n",
       "      <td>totalpositive2</td>\n",
       "      <td>date</td>\n",
       "      <td>case_percent</td>\n",
       "      <td>deaths</td>\n",
       "      <td>deaths_percent</td>\n",
       "      <td>ca_percent</td>\n",
       "    </tr>\n",
       "  </tbody>\n",
       "</table>\n",
       "</div>"
      ],
      "text/plain": [
       "     sex  totalpositive2  date  case_percent  deaths  deaths_percent  \\\n",
       "992  sex  totalpositive2  date  case_percent  deaths  deaths_percent   \n",
       "\n",
       "     ca_percent  \n",
       "992  ca_percent  "
      ]
     },
     "execution_count": 9,
     "metadata": {},
     "output_type": "execute_result"
    }
   ],
   "source": [
    "gender_df.loc[gender_df[\"sex\"]==\"sex\", : ]"
   ]
  },
  {
   "cell_type": "code",
   "execution_count": 10,
   "metadata": {},
   "outputs": [
    {
     "data": {
      "text/plain": [
       "Male       618\n",
       "Female     618\n",
       "Unknown    598\n",
       "Name: sex, dtype: int64"
      ]
     },
     "execution_count": 10,
     "metadata": {},
     "output_type": "execute_result"
    }
   ],
   "source": [
    "gender_df=gender_df.loc[(gender_df[\"sex\"]!=\"sex\")]\n",
    "gender_df[\"sex\"].value_counts()"
   ]
  },
  {
   "cell_type": "code",
   "execution_count": 46,
   "metadata": {},
   "outputs": [
    {
     "data": {
      "text/plain": [
       "Text(0.5, 1.0, 'Percentage of Cases for Genders impacted by COVID in California')"
      ]
     },
     "execution_count": 46,
     "metadata": {},
     "output_type": "execute_result"
    },
    {
     "data": {
      "image/png": "[encoded data removed]",
      "text/plain": [
       "<Figure size 432x288 with 1 Axes>"
      ]
     },
     "metadata": {},
     "output_type": "display_data"
    }
   ],
   "source": [
    "#Pie chart of the percentage(%) of genders impacted in California \n",
    "sizes=gender_df[\"sex\"].value_counts()\n",
    "\n",
    "labels=gender_df[\"sex\"].unique()\n",
    "\n",
    "explode= (0.05,0.05,0.05)\n",
    "\n",
    "plt.pie(sizes, labels=labels,explode=explode,\n",
    "        autopct=\"%1.1f%%\", shadow=True, startangle=140)\n",
    "\n",
    "plt.title(\"Percentage of Cases for Genders impacted by COVID in California\")"
   ]
  },
  {
   "cell_type": "code",
   "execution_count": null,
   "metadata": {},
   "outputs": [],
   "source": [
    "\n"
   ]
  },
  {
   "cell_type": "code",
   "execution_count": null,
   "metadata": {},
   "outputs": [],
   "source": []
  },
  {
   "cell_type": "code",
   "execution_count": null,
   "metadata": {},
   "outputs": [],
   "source": []
  },
  {
   "cell_type": "code",
   "execution_count": null,
   "metadata": {},
   "outputs": [],
   "source": []
  }
 ],
 "metadata": {
  "kernelspec": {
   "display_name": "Python 3",
   "language": "python",
   "name": "python3"
  },
  "language_info": {
   "codemirror_mode": {
    "name": "ipython",
    "version": 3
   },
   "file_extension": ".py",
   "mimetype": "text/x-python",
   "name": "python",
   "nbconvert_exporter": "python",
   "pygments_lexer": "ipython3",
   "version": "3.8.5"
  }
 },
 "nbformat": 4,
 "nbformat_minor": 4
}
