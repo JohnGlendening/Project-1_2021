{
 "cells": [
  {
   "cell_type": "code",
   "execution_count": 14,
   "metadata": {},
   "outputs": [],
   "source": [
    "# Dependencies and Setup\n",
    "import matplotlib.pyplot as plt\n",
    "import pandas as pd\n"
   ]
  },
  {
   "cell_type": "code",
   "execution_count": 15,
   "metadata": {},
   "outputs": [],
   "source": [
    "# File to Load (Remember to Change These)\n",
    "file1=\"case_demographics_sex.csv\"\n",
    "\n",
    "# Read Purchasing File and store into Pandas data frame\n",
    "\n",
    "df= pd.read_csv(file1)"
   ]
  },
  {
   "cell_type": "code",
   "execution_count": 36,
   "metadata": {},
   "outputs": [
    {
     "data": {
      "text/html": [
       "<div>\n",
       "<style scoped>\n",
       "    .dataframe tbody tr th:only-of-type {\n",
       "        vertical-align: middle;\n",
       "    }\n",
       "\n",
       "    .dataframe tbody tr th {\n",
       "        vertical-align: top;\n",
       "    }\n",
       "\n",
       "    .dataframe thead th {\n",
       "        text-align: right;\n",
       "    }\n",
       "</style>\n",
       "<table border=\"1\" class=\"dataframe\">\n",
       "  <thead>\n",
       "    <tr style=\"text-align: right;\">\n",
       "      <th></th>\n",
       "      <th>sex</th>\n",
       "      <th>totalpositive2</th>\n",
       "      <th>date</th>\n",
       "      <th>case_percent</th>\n",
       "      <th>deaths</th>\n",
       "      <th>deaths_percent</th>\n",
       "      <th>ca_percent</th>\n",
       "    </tr>\n",
       "  </thead>\n",
       "  <tbody>\n",
       "    <tr>\n",
       "      <th>0</th>\n",
       "      <td>Female</td>\n",
       "      <td>5015</td>\n",
       "      <td>4/2/2020</td>\n",
       "      <td>NaN</td>\n",
       "      <td>NaN</td>\n",
       "      <td>NaN</td>\n",
       "      <td>NaN</td>\n",
       "    </tr>\n",
       "    <tr>\n",
       "      <th>1</th>\n",
       "      <td>Male</td>\n",
       "      <td>5547</td>\n",
       "      <td>4/2/2020</td>\n",
       "      <td>NaN</td>\n",
       "      <td>NaN</td>\n",
       "      <td>NaN</td>\n",
       "      <td>NaN</td>\n",
       "    </tr>\n",
       "    <tr>\n",
       "      <th>2</th>\n",
       "      <td>Unknown</td>\n",
       "      <td>139</td>\n",
       "      <td>4/2/2020</td>\n",
       "      <td>NaN</td>\n",
       "      <td>NaN</td>\n",
       "      <td>NaN</td>\n",
       "      <td>NaN</td>\n",
       "    </tr>\n",
       "    <tr>\n",
       "      <th>3</th>\n",
       "      <td>Female</td>\n",
       "      <td>5674</td>\n",
       "      <td>4/3/2020</td>\n",
       "      <td>NaN</td>\n",
       "      <td>NaN</td>\n",
       "      <td>NaN</td>\n",
       "      <td>NaN</td>\n",
       "    </tr>\n",
       "    <tr>\n",
       "      <th>4</th>\n",
       "      <td>Male</td>\n",
       "      <td>6202</td>\n",
       "      <td>4/3/2020</td>\n",
       "      <td>NaN</td>\n",
       "      <td>NaN</td>\n",
       "      <td>NaN</td>\n",
       "      <td>NaN</td>\n",
       "    </tr>\n",
       "    <tr>\n",
       "      <th>...</th>\n",
       "      <td>...</td>\n",
       "      <td>...</td>\n",
       "      <td>...</td>\n",
       "      <td>...</td>\n",
       "      <td>...</td>\n",
       "      <td>...</td>\n",
       "      <td>...</td>\n",
       "    </tr>\n",
       "    <tr>\n",
       "      <th>1980</th>\n",
       "      <td>Unknown</td>\n",
       "      <td>51284</td>\n",
       "      <td>2/23/2021</td>\n",
       "      <td>1.5</td>\n",
       "      <td>242</td>\n",
       "      <td>0.5</td>\n",
       "      <td>0</td>\n",
       "    </tr>\n",
       "    <tr>\n",
       "      <th>1981</th>\n",
       "      <td>Female</td>\n",
       "      <td>1757746</td>\n",
       "      <td>2/24/2021</td>\n",
       "      <td>50.8</td>\n",
       "      <td>20985</td>\n",
       "      <td>41.4</td>\n",
       "      <td>50.3</td>\n",
       "    </tr>\n",
       "    <tr>\n",
       "      <th>1982</th>\n",
       "      <td>Male</td>\n",
       "      <td>1651296</td>\n",
       "      <td>2/24/2021</td>\n",
       "      <td>47.7</td>\n",
       "      <td>29420</td>\n",
       "      <td>58.1</td>\n",
       "      <td>49.7</td>\n",
       "    </tr>\n",
       "    <tr>\n",
       "      <th>1983</th>\n",
       "      <td>Unknown</td>\n",
       "      <td>51284</td>\n",
       "      <td>2/24/2021</td>\n",
       "      <td>1.5</td>\n",
       "      <td>243</td>\n",
       "      <td>0.5</td>\n",
       "      <td>0</td>\n",
       "    </tr>\n",
       "    <tr>\n",
       "      <th>1984</th>\n",
       "      <td>&gt;&gt;&gt;&gt;&gt;&gt;&gt; e803abca8ad3094f0700bcf3636bd9417aa87c4f</td>\n",
       "      <td>NaN</td>\n",
       "      <td>NaN</td>\n",
       "      <td>NaN</td>\n",
       "      <td>NaN</td>\n",
       "      <td>NaN</td>\n",
       "      <td>NaN</td>\n",
       "    </tr>\n",
       "  </tbody>\n",
       "</table>\n",
       "<p>1985 rows × 7 columns</p>\n",
       "</div>"
      ],
      "text/plain": [
       "                                                   sex totalpositive2  \\\n",
       "0                                               Female           5015   \n",
       "1                                                 Male           5547   \n",
       "2                                              Unknown            139   \n",
       "3                                               Female           5674   \n",
       "4                                                 Male           6202   \n",
       "...                                                ...            ...   \n",
       "1980                                           Unknown          51284   \n",
       "1981                                            Female        1757746   \n",
       "1982                                              Male        1651296   \n",
       "1983                                           Unknown          51284   \n",
       "1984  >>>>>>> e803abca8ad3094f0700bcf3636bd9417aa87c4f            NaN   \n",
       "\n",
       "           date case_percent deaths deaths_percent ca_percent  \n",
       "0      4/2/2020          NaN    NaN            NaN        NaN  \n",
       "1      4/2/2020          NaN    NaN            NaN        NaN  \n",
       "2      4/2/2020          NaN    NaN            NaN        NaN  \n",
       "3      4/3/2020          NaN    NaN            NaN        NaN  \n",
       "4      4/3/2020          NaN    NaN            NaN        NaN  \n",
       "...         ...          ...    ...            ...        ...  \n",
       "1980  2/23/2021          1.5    242            0.5          0  \n",
       "1981  2/24/2021         50.8  20985           41.4       50.3  \n",
       "1982  2/24/2021         47.7  29420           58.1       49.7  \n",
       "1983  2/24/2021          1.5    243            0.5          0  \n",
       "1984        NaN          NaN    NaN            NaN        NaN  \n",
       "\n",
       "[1985 rows x 7 columns]"
      ]
     },
     "execution_count": 36,
     "metadata": {},
     "output_type": "execute_result"
    }
   ],
   "source": [
    "df"
   ]
  },
  {
   "cell_type": "code",
   "execution_count": 37,
   "metadata": {},
   "outputs": [
    {
     "data": {
      "text/plain": [
       "sex               1835\n",
       "totalpositive2    1835\n",
       "date              1835\n",
       "case_percent      1835\n",
       "deaths            1835\n",
       "deaths_percent    1835\n",
       "ca_percent        1835\n",
       "dtype: int64"
      ]
     },
     "execution_count": 37,
     "metadata": {},
     "output_type": "execute_result"
    }
   ],
   "source": [
    "gender_df.count()"
   ]
  },
  {
   "cell_type": "code",
   "execution_count": 38,
   "metadata": {},
   "outputs": [],
   "source": [
    "gender_df=df.dropna(how=\"any\")\n",
    "gender_df.head()"
   ]
  },
  {
   "cell_type": "code",
   "execution_count": 40,
   "metadata": {},
   "outputs": [
    {
     "data": {
      "text/plain": [
       "sex                 4\n",
       "totalpositive2    900\n",
       "date              310\n",
       "case_percent       62\n",
       "deaths            701\n",
       "deaths_percent     86\n",
       "ca_percent          6\n",
       "dtype: int64"
      ]
     },
     "execution_count": 40,
     "metadata": {},
     "output_type": "execute_result"
    }
   ],
   "source": [
    "gender_df.nunique()"
   ]
  },
  {
   "cell_type": "code",
   "execution_count": 41,
   "metadata": {},
   "outputs": [
    {
     "data": {
      "text/html": [
       "<div>\n",
       "<style scoped>\n",
       "    .dataframe tbody tr th:only-of-type {\n",
       "        vertical-align: middle;\n",
       "    }\n",
       "\n",
       "    .dataframe tbody tr th {\n",
       "        vertical-align: top;\n",
       "    }\n",
       "\n",
       "    .dataframe thead th {\n",
       "        text-align: right;\n",
       "    }\n",
       "</style>\n",
       "<table border=\"1\" class=\"dataframe\">\n",
       "  <thead>\n",
       "    <tr style=\"text-align: right;\">\n",
       "      <th></th>\n",
       "      <th>sex</th>\n",
       "      <th>totalpositive2</th>\n",
       "      <th>date</th>\n",
       "      <th>case_percent</th>\n",
       "      <th>deaths</th>\n",
       "      <th>deaths_percent</th>\n",
       "      <th>ca_percent</th>\n",
       "    </tr>\n",
       "  </thead>\n",
       "  <tbody>\n",
       "    <tr>\n",
       "      <th>count</th>\n",
       "      <td>1835</td>\n",
       "      <td>1835</td>\n",
       "      <td>1835</td>\n",
       "      <td>1835</td>\n",
       "      <td>1835</td>\n",
       "      <td>1835</td>\n",
       "      <td>1835</td>\n",
       "    </tr>\n",
       "    <tr>\n",
       "      <th>unique</th>\n",
       "      <td>4</td>\n",
       "      <td>900</td>\n",
       "      <td>310</td>\n",
       "      <td>62</td>\n",
       "      <td>701</td>\n",
       "      <td>86</td>\n",
       "      <td>6</td>\n",
       "    </tr>\n",
       "    <tr>\n",
       "      <th>top</th>\n",
       "      <td>Female</td>\n",
       "      <td>24669</td>\n",
       "      <td>1/11/2021</td>\n",
       "      <td>0.8</td>\n",
       "      <td>31</td>\n",
       "      <td>0.2</td>\n",
       "      <td>49.7</td>\n",
       "    </tr>\n",
       "    <tr>\n",
       "      <th>freq</th>\n",
       "      <td>618</td>\n",
       "      <td>4</td>\n",
       "      <td>6</td>\n",
       "      <td>156</td>\n",
       "      <td>70</td>\n",
       "      <td>246</td>\n",
       "      <td>598</td>\n",
       "    </tr>\n",
       "  </tbody>\n",
       "</table>\n",
       "</div>"
      ],
      "text/plain": [
       "           sex totalpositive2       date case_percent deaths deaths_percent  \\\n",
       "count     1835           1835       1835         1835   1835           1835   \n",
       "unique       4            900        310           62    701             86   \n",
       "top     Female          24669  1/11/2021          0.8     31            0.2   \n",
       "freq       618              4          6          156     70            246   \n",
       "\n",
       "       ca_percent  \n",
       "count        1835  \n",
       "unique          6  \n",
       "top          49.7  \n",
       "freq          598  "
      ]
     },
     "execution_count": 41,
     "metadata": {},
     "output_type": "execute_result"
    }
   ],
   "source": [
    "gender_df.describe()"
   ]
  },
  {
   "cell_type": "code",
   "execution_count": 42,
   "metadata": {},
   "outputs": [
    {
     "data": {
      "text/plain": [
       "Female     618\n",
       "Male       618\n",
       "Unknown    598\n",
       "sex          1\n",
       "Name: sex, dtype: int64"
      ]
     },
     "execution_count": 42,
     "metadata": {},
     "output_type": "execute_result"
    }
   ],
   "source": [
    "gender_df[\"sex\"].value_counts()\n"
   ]
  },
  {
   "cell_type": "code",
   "execution_count": 43,
   "metadata": {},
   "outputs": [
    {
     "data": {
      "text/html": [
       "<div>\n",
       "<style scoped>\n",
       "    .dataframe tbody tr th:only-of-type {\n",
       "        vertical-align: middle;\n",
       "    }\n",
       "\n",
       "    .dataframe tbody tr th {\n",
       "        vertical-align: top;\n",
       "    }\n",
       "\n",
       "    .dataframe thead th {\n",
       "        text-align: right;\n",
       "    }\n",
       "</style>\n",
       "<table border=\"1\" class=\"dataframe\">\n",
       "  <thead>\n",
       "    <tr style=\"text-align: right;\">\n",
       "      <th></th>\n",
       "      <th>sex</th>\n",
       "      <th>totalpositive2</th>\n",
       "      <th>date</th>\n",
       "      <th>case_percent</th>\n",
       "      <th>deaths</th>\n",
       "      <th>deaths_percent</th>\n",
       "      <th>ca_percent</th>\n",
       "    </tr>\n",
       "  </thead>\n",
       "  <tbody>\n",
       "    <tr>\n",
       "      <th>992</th>\n",
       "      <td>sex</td>\n",
       "      <td>totalpositive2</td>\n",
       "      <td>date</td>\n",
       "      <td>case_percent</td>\n",
       "      <td>deaths</td>\n",
       "      <td>deaths_percent</td>\n",
       "      <td>ca_percent</td>\n",
       "    </tr>\n",
       "  </tbody>\n",
       "</table>\n",
       "</div>"
      ],
      "text/plain": [
       "     sex  totalpositive2  date  case_percent  deaths  deaths_percent  \\\n",
       "992  sex  totalpositive2  date  case_percent  deaths  deaths_percent   \n",
       "\n",
       "     ca_percent  \n",
       "992  ca_percent  "
      ]
     },
     "execution_count": 43,
     "metadata": {},
     "output_type": "execute_result"
    }
   ],
   "source": [
    "gender_df.loc[gender_df[\"sex\"]==\"sex\", : ]"
   ]
  },
  {
   "cell_type": "code",
   "execution_count": 44,
   "metadata": {},
   "outputs": [
    {
     "data": {
      "text/plain": [
       "Female     618\n",
       "Male       618\n",
       "Unknown    598\n",
       "Name: sex, dtype: int64"
      ]
     },
     "execution_count": 44,
     "metadata": {},
     "output_type": "execute_result"
    }
   ],
   "source": [
    "gender_df=gender_df.loc[(gender_df[\"sex\"]!=\"sex\")]\n",
    "gender_df[\"sex\"].value_counts()"
   ]
  },
  {
   "cell_type": "code",
   "execution_count": 78,
   "metadata": {},
   "outputs": [
    {
     "data": {
      "text/html": [
       "<div>\n",
       "<style scoped>\n",
       "    .dataframe tbody tr th:only-of-type {\n",
       "        vertical-align: middle;\n",
       "    }\n",
       "\n",
       "    .dataframe tbody tr th {\n",
       "        vertical-align: top;\n",
       "    }\n",
       "\n",
       "    .dataframe thead th {\n",
       "        text-align: right;\n",
       "    }\n",
       "</style>\n",
       "<table border=\"1\" class=\"dataframe\">\n",
       "  <thead>\n",
       "    <tr style=\"text-align: right;\">\n",
       "      <th></th>\n",
       "      <th>sex</th>\n",
       "      <th>totalpositive2</th>\n",
       "      <th>date</th>\n",
       "      <th>case_percent</th>\n",
       "      <th>deaths</th>\n",
       "      <th>deaths_percent</th>\n",
       "      <th>ca_percent</th>\n",
       "    </tr>\n",
       "  </thead>\n",
       "  <tbody>\n",
       "    <tr>\n",
       "      <th>1981</th>\n",
       "      <td>Female</td>\n",
       "      <td>1757746</td>\n",
       "      <td>2/24/2021</td>\n",
       "      <td>50.8</td>\n",
       "      <td>20985</td>\n",
       "      <td>41.4</td>\n",
       "      <td>50.3</td>\n",
       "    </tr>\n",
       "    <tr>\n",
       "      <th>1982</th>\n",
       "      <td>Male</td>\n",
       "      <td>1651296</td>\n",
       "      <td>2/24/2021</td>\n",
       "      <td>47.7</td>\n",
       "      <td>29420</td>\n",
       "      <td>58.1</td>\n",
       "      <td>49.7</td>\n",
       "    </tr>\n",
       "    <tr>\n",
       "      <th>1983</th>\n",
       "      <td>Unknown</td>\n",
       "      <td>51284</td>\n",
       "      <td>2/24/2021</td>\n",
       "      <td>1.5</td>\n",
       "      <td>243</td>\n",
       "      <td>0.5</td>\n",
       "      <td>0</td>\n",
       "    </tr>\n",
       "  </tbody>\n",
       "</table>\n",
       "</div>"
      ],
      "text/plain": [
       "          sex totalpositive2       date case_percent deaths deaths_percent  \\\n",
       "1981   Female        1757746  2/24/2021         50.8  20985           41.4   \n",
       "1982     Male        1651296  2/24/2021         47.7  29420           58.1   \n",
       "1983  Unknown          51284  2/24/2021          1.5    243            0.5   \n",
       "\n",
       "     ca_percent  \n",
       "1981       50.3  \n",
       "1982       49.7  \n",
       "1983          0  "
      ]
     },
     "execution_count": 78,
     "metadata": {},
     "output_type": "execute_result"
    }
   ],
   "source": [
    "new_df=gender_df.tail(3)\n",
    "new_df"
   ]
  },
  {
   "cell_type": "code",
   "execution_count": 81,
   "metadata": {},
   "outputs": [
    {
     "data": {
      "text/html": [
       "<div>\n",
       "<style scoped>\n",
       "    .dataframe tbody tr th:only-of-type {\n",
       "        vertical-align: middle;\n",
       "    }\n",
       "\n",
       "    .dataframe tbody tr th {\n",
       "        vertical-align: top;\n",
       "    }\n",
       "\n",
       "    .dataframe thead th {\n",
       "        text-align: right;\n",
       "    }\n",
       "</style>\n",
       "<table border=\"1\" class=\"dataframe\">\n",
       "  <thead>\n",
       "    <tr style=\"text-align: right;\">\n",
       "      <th></th>\n",
       "      <th>Gender</th>\n",
       "      <th>Cases</th>\n",
       "      <th>Deaths</th>\n",
       "    </tr>\n",
       "  </thead>\n",
       "  <tbody>\n",
       "    <tr>\n",
       "      <th>0</th>\n",
       "      <td>Female</td>\n",
       "      <td>1757746</td>\n",
       "      <td>20985</td>\n",
       "    </tr>\n",
       "    <tr>\n",
       "      <th>1</th>\n",
       "      <td>Male</td>\n",
       "      <td>1651296</td>\n",
       "      <td>29420</td>\n",
       "    </tr>\n",
       "    <tr>\n",
       "      <th>2</th>\n",
       "      <td>Other</td>\n",
       "      <td>51284</td>\n",
       "      <td>243</td>\n",
       "    </tr>\n",
       "  </tbody>\n",
       "</table>\n",
       "</div>"
      ],
      "text/plain": [
       "   Gender    Cases  Deaths\n",
       "0  Female  1757746   20985\n",
       "1    Male  1651296   29420\n",
       "2   Other    51284     243"
      ]
     },
     "execution_count": 81,
     "metadata": {},
     "output_type": "execute_result"
    }
   ],
   "source": [
    "Sex=[\"Female\",\"Male\",\"Other\"]\n",
    "Cases=[1757746,1651296,51284]\n",
    "Deaths=[20985,29420,243]\n",
    "\n",
    "Cali_Gender_df=pd.DataFrame({\"Gender\":Sex,\n",
    "                       \"Cases\":Cases,\n",
    "                       \"Deaths\":Deaths})\n",
    "\n",
    "Cali_Gender_df"
   ]
  },
  {
   "cell_type": "code",
   "execution_count": 87,
   "metadata": {},
   "outputs": [
    {
     "data": {
      "text/html": [
       "<div>\n",
       "<style scoped>\n",
       "    .dataframe tbody tr th:only-of-type {\n",
       "        vertical-align: middle;\n",
       "    }\n",
       "\n",
       "    .dataframe tbody tr th {\n",
       "        vertical-align: top;\n",
       "    }\n",
       "\n",
       "    .dataframe thead th {\n",
       "        text-align: right;\n",
       "    }\n",
       "</style>\n",
       "<table border=\"1\" class=\"dataframe\">\n",
       "  <thead>\n",
       "    <tr style=\"text-align: right;\">\n",
       "      <th></th>\n",
       "      <th>Cases</th>\n",
       "      <th>Deaths</th>\n",
       "    </tr>\n",
       "  </thead>\n",
       "  <tbody>\n",
       "    <tr>\n",
       "      <th>count</th>\n",
       "      <td>3.000000e+00</td>\n",
       "      <td>3.000000</td>\n",
       "    </tr>\n",
       "    <tr>\n",
       "      <th>mean</th>\n",
       "      <td>1.153442e+06</td>\n",
       "      <td>16882.666667</td>\n",
       "    </tr>\n",
       "    <tr>\n",
       "      <th>std</th>\n",
       "      <td>9.559797e+05</td>\n",
       "      <td>15014.865512</td>\n",
       "    </tr>\n",
       "    <tr>\n",
       "      <th>min</th>\n",
       "      <td>5.128400e+04</td>\n",
       "      <td>243.000000</td>\n",
       "    </tr>\n",
       "    <tr>\n",
       "      <th>25%</th>\n",
       "      <td>8.512900e+05</td>\n",
       "      <td>10614.000000</td>\n",
       "    </tr>\n",
       "    <tr>\n",
       "      <th>50%</th>\n",
       "      <td>1.651296e+06</td>\n",
       "      <td>20985.000000</td>\n",
       "    </tr>\n",
       "    <tr>\n",
       "      <th>75%</th>\n",
       "      <td>1.704521e+06</td>\n",
       "      <td>25202.500000</td>\n",
       "    </tr>\n",
       "    <tr>\n",
       "      <th>max</th>\n",
       "      <td>1.757746e+06</td>\n",
       "      <td>29420.000000</td>\n",
       "    </tr>\n",
       "  </tbody>\n",
       "</table>\n",
       "</div>"
      ],
      "text/plain": [
       "              Cases        Deaths\n",
       "count  3.000000e+00      3.000000\n",
       "mean   1.153442e+06  16882.666667\n",
       "std    9.559797e+05  15014.865512\n",
       "min    5.128400e+04    243.000000\n",
       "25%    8.512900e+05  10614.000000\n",
       "50%    1.651296e+06  20985.000000\n",
       "75%    1.704521e+06  25202.500000\n",
       "max    1.757746e+06  29420.000000"
      ]
     },
     "execution_count": 87,
     "metadata": {},
     "output_type": "execute_result"
    }
   ],
   "source": [
    "Cali_Gender_df.describe()"
   ]
  },
  {
   "cell_type": "code",
   "execution_count": 85,
   "metadata": {},
   "outputs": [
    {
     "data": {
      "image/png": "[encoded data removed]",
      "text/plain": [
       "<Figure size 432x288 with 1 Axes>"
      ]
     },
     "metadata": {
      "needs_background": "light"
     },
     "output_type": "display_data"
    }
   ],
   "source": [
    "Cali_genders= Cali_Gender_df[\"Gender\"]\n",
    "Cali_cases = Cali_Gender_df[\"Cases\"]\n",
    "plt.title(\"Number of cases per Ethnicity\")\n",
    "plt.ylabel(\"Number of cases (per million)\")\n",
    "plt.xlabel(\"Ethnicity\")\n",
    "width = 0.5 \n",
    "plt.xticks(rotation=90)\n",
    "plt.bar(Cali_genders, Cali_cases, width)\n",
    "plt.tick_params(axis=\"x\", which=\"major\", labelsize=12)\n",
    "\n",
    "plt.show()"
   ]
  },
  {
   "cell_type": "code",
   "execution_count": 86,
   "metadata": {},
   "outputs": [
    {
     "data": {
      "image/png": "[encoded data removed]",
      "text/plain": [
       "<Figure size 432x288 with 1 Axes>"
      ]
     },
     "metadata": {
      "needs_background": "light"
     },
     "output_type": "display_data"
    }
   ],
   "source": [
    "Cali_genders= Cali_Gender_df[\"Gender\"]\n",
    "Cali_cases = Cali_Gender_df[\"Cases\"]\n",
    "plt.title(\"Number of cases per Ethnicity\")\n",
    "plt.ylabel(\"Number of cases (per million)\")\n",
    "plt.xlabel(\"Ethnicity\")\n",
    "width = 0.5 \n",
    "plt.xticks(rotation=90)\n",
    "plt.plot(Cali_genders, Cali_cases, width)\n",
    "plt.tick_params(axis=\"x\", which=\"major\", labelsize=12)\n",
    "\n",
    "plt.show()"
   ]
  },
  {
   "cell_type": "code",
   "execution_count": 88,
   "metadata": {},
   "outputs": [
    {
     "data": {
      "image/png": "[encoded data removed]",
      "text/plain": [
       "<Figure size 432x288 with 1 Axes>"
      ]
     },
     "metadata": {
      "needs_background": "light"
     },
     "output_type": "display_data"
    }
   ],
   "source": [
    "Cali_genders= Cali_Gender_df[\"Gender\"]\n",
    "Cali_cases = Cali_Gender_df[\"Cases\"]\n",
    "plt.title(\"Number of cases per Ethnicity\")\n",
    "plt.ylabel(\"Number of cases (per million)\")\n",
    "plt.xlabel(\"Ethnicity\")\n",
    "\n",
    "plt.xticks(rotation=90)\n",
    "plt.scatter(Cali_genders, Cali_cases)\n",
    "plt.grid(True)\n",
    "plt.tick_params(axis=\"x\", which=\"major\", labelsize=12)\n",
    "\n",
    "plt.show()"
   ]
  },
  {
   "cell_type": "code",
   "execution_count": null,
   "metadata": {},
   "outputs": [],
   "source": []
  },
  {
   "cell_type": "code",
   "execution_count": 93,
   "metadata": {},
   "outputs": [
    {
     "data": {
      "text/plain": [
       "Text(0.5, 1.0, 'Percentage of Cases for Genders impacted by COVID in California')"
      ]
     },
     "execution_count": 93,
     "metadata": {},
     "output_type": "execute_result"
    },
    {
     "data": {
      "image/png": "[encoded data removed]",
      "text/plain": [
       "<Figure size 432x288 with 1 Axes>"
      ]
     },
     "metadata": {},
     "output_type": "display_data"
    }
   ],
   "source": [
    "#Pie chart of the percentage(%) of genders impacted in California \n",
    "sizes=Cali_Gender_df[\"Cases\"]\n",
    "\n",
    "labels=Cali_Gender_df[\"Gender\"].unique()\n",
    "\n",
    "explode= (0,0,0.05)\n",
    "\n",
    "plt.pie(sizes, labels=labels,explode=explode,\n",
    "        autopct=\"%1.1f%%\", shadow=True, startangle=140)\n",
    "\n",
    "plt.title(\"Percentage of Cases for Genders impacted by COVID in California\")"
   ]
  },
  {
   "cell_type": "code",
   "execution_count": 94,
   "metadata": {},
   "outputs": [
    {
     "data": {
      "image/png": "[encoded data removed]",
      "text/plain": [
       "<Figure size 432x288 with 1 Axes>"
      ]
     },
     "metadata": {
      "needs_background": "light"
     },
     "output_type": "display_data"
    }
   ],
   "source": [
    "Cali_genders_Deaths= Cali_Gender_df[\"Gender\"]\n",
    "Cali_Deaths = Cali_Gender_df[\"Deaths\"]\n",
    "plt.title(\"Number of cases per Ethnicity\")\n",
    "plt.ylabel(\"Number of cases (per million)\")\n",
    "plt.xlabel(\"Ethnicity\")\n",
    "width = 0.5 \n",
    "plt.xticks(rotation=90)\n",
    "plt.bar(Cali_genders_Deaths, Cali_Deaths, width)\n",
    "plt.tick_params(axis=\"x\", which=\"major\", labelsize=12)\n",
    "\n",
    "plt.show()"
   ]
  },
  {
   "cell_type": "code",
   "execution_count": 95,
   "metadata": {},
   "outputs": [
    {
     "data": {
      "image/png": "[encoded data removed]",
      "text/plain": [
       "<Figure size 432x288 with 1 Axes>"
      ]
     },
     "metadata": {
      "needs_background": "light"
     },
     "output_type": "display_data"
    }
   ],
   "source": [
    "Cali_genders_Deaths= Cali_Gender_df[\"Gender\"]\n",
    "Cali_Deaths = Cali_Gender_df[\"Deaths\"]\n",
    "plt.title(\"Number of cases per Ethnicity\")\n",
    "plt.ylabel(\"Number of cases (per million)\")\n",
    "plt.xlabel(\"Ethnicity\")\n",
    "width = 0.5 \n",
    "plt.xticks(rotation=90)\n",
    "plt.plot(Cali_genders_Deaths, Cali_Deaths, width)\n",
    "plt.tick_params(axis=\"x\", which=\"major\", labelsize=12)\n",
    "\n",
    "plt.show()"
   ]
  },
  {
   "cell_type": "code",
   "execution_count": 100,
   "metadata": {},
   "outputs": [
    {
     "data": {
      "text/plain": [
       "Text(0.5, 1.0, 'Percentage of Deaths for Genders impacted by COVID in California')"
      ]
     },
     "execution_count": 100,
     "metadata": {},
     "output_type": "execute_result"
    },
    {
     "data": {
      "image/png": "[encoded data removed]",
      "text/plain": [
       "<Figure size 432x288 with 1 Axes>"
      ]
     },
     "metadata": {},
     "output_type": "display_data"
    }
   ],
   "source": [
    "#Pie chart of the percentage(%) of genders impacted in California \n",
    "size=Cali_Gender_df[\"Deaths\"]\n",
    "\n",
    "label=Cali_Gender_df[\"Gender\"].unique()\n",
    "\n",
    "explode= (0.05,0.05,0)\n",
    "\n",
    "plt.pie(size, labels=label,explode=explode,\n",
    "        autopct=\"%1.1f%%\", shadow=True, startangle=140)\n",
    "\n",
    "plt.title(\"Percentage of Deaths for Genders impacted by COVID in California\")"
   ]
  },
  {
   "cell_type": "code",
   "execution_count": null,
   "metadata": {},
   "outputs": [],
   "source": [
    "\n"
   ]
  },
  {
   "cell_type": "code",
   "execution_count": null,
   "metadata": {},
   "outputs": [],
   "source": []
  }
 ],
 "metadata": {
  "kernelspec": {
   "display_name": "Python 3",
   "language": "python",
   "name": "python3"
  },
  "language_info": {
   "codemirror_mode": {
    "name": "ipython",
    "version": 3
   },
   "file_extension": ".py",
   "mimetype": "text/x-python",
   "name": "python",
   "nbconvert_exporter": "python",
   "pygments_lexer": "ipython3",
   "version": "3.8.5"
  }
 },
 "nbformat": 4,
 "nbformat_minor": 4
}
