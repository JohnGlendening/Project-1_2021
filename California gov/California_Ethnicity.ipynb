{
 "cells": [
  {
   "cell_type": "code",
   "execution_count": 227,
   "metadata": {},
   "outputs": [],
   "source": [
    "# Dependencies and Setup\n",
    "import matplotlib.pyplot as plt\n",
    "import pandas as pd\n",
    "import scipy.stats as st\n",
    "import numpy as np\n",
    "from scipy.stats import sem\n",
    "import random\n",
    "from scipy.stats import linregress\n",
    "from sklearn import datasets\n",
    "import scipy.stats as sts\n",
    "import requests\n",
    "import time\n",
    "from scipy.stats import linregress\n"
   ]
  },
  {
   "cell_type": "code",
   "execution_count": 228,
   "metadata": {},
   "outputs": [],
   "source": [
    "# File to Load (Remember to Change These)\n",
    "file= \"case_demographics_ethnicity.csv\"\n",
    "\n",
    "# Read Purchasing File and store into Pandas data frame\n",
    "df= pd.read_csv(file)\n"
   ]
  },
  {
   "cell_type": "code",
   "execution_count": 229,
   "metadata": {},
   "outputs": [
    {
     "data": {
      "text/html": [
       "<div>\n",
       "<style scoped>\n",
       "    .dataframe tbody tr th:only-of-type {\n",
       "        vertical-align: middle;\n",
       "    }\n",
       "\n",
       "    .dataframe tbody tr th {\n",
       "        vertical-align: top;\n",
       "    }\n",
       "\n",
       "    .dataframe thead th {\n",
       "        text-align: right;\n",
       "    }\n",
       "</style>\n",
       "<table border=\"1\" class=\"dataframe\">\n",
       "  <thead>\n",
       "    <tr style=\"text-align: right;\">\n",
       "      <th></th>\n",
       "      <th>race_ethnicity</th>\n",
       "      <th>cases</th>\n",
       "      <th>case_percentage</th>\n",
       "      <th>deaths</th>\n",
       "      <th>death_percentage</th>\n",
       "      <th>percent_ca_population</th>\n",
       "      <th>date</th>\n",
       "    </tr>\n",
       "  </thead>\n",
       "  <tbody>\n",
       "    <tr>\n",
       "      <th>0</th>\n",
       "      <td>Latino</td>\n",
       "      <td>5276</td>\n",
       "      <td>35.99</td>\n",
       "      <td>170</td>\n",
       "      <td>28.38</td>\n",
       "      <td>38.9</td>\n",
       "      <td>4/13/2020</td>\n",
       "    </tr>\n",
       "    <tr>\n",
       "      <th>1</th>\n",
       "      <td>Latino</td>\n",
       "      <td>5910</td>\n",
       "      <td>37.18</td>\n",
       "      <td>203</td>\n",
       "      <td>29.72</td>\n",
       "      <td>38.9</td>\n",
       "      <td>4/14/2020</td>\n",
       "    </tr>\n",
       "    <tr>\n",
       "      <th>2</th>\n",
       "      <td>Latino</td>\n",
       "      <td>6433</td>\n",
       "      <td>37.8</td>\n",
       "      <td>226</td>\n",
       "      <td>29.7</td>\n",
       "      <td>38.9</td>\n",
       "      <td>4/15/2020</td>\n",
       "    </tr>\n",
       "    <tr>\n",
       "      <th>3</th>\n",
       "      <td>Latino</td>\n",
       "      <td>7013</td>\n",
       "      <td>38.51</td>\n",
       "      <td>254</td>\n",
       "      <td>29.85</td>\n",
       "      <td>38.9</td>\n",
       "      <td>4/16/2020</td>\n",
       "    </tr>\n",
       "    <tr>\n",
       "      <th>4</th>\n",
       "      <td>Latino</td>\n",
       "      <td>7627</td>\n",
       "      <td>39.41</td>\n",
       "      <td>281</td>\n",
       "      <td>30.58</td>\n",
       "      <td>38.9</td>\n",
       "      <td>4/17/2020</td>\n",
       "    </tr>\n",
       "    <tr>\n",
       "      <th>...</th>\n",
       "      <td>...</td>\n",
       "      <td>...</td>\n",
       "      <td>...</td>\n",
       "      <td>...</td>\n",
       "      <td>...</td>\n",
       "      <td>...</td>\n",
       "      <td>...</td>\n",
       "    </tr>\n",
       "    <tr>\n",
       "      <th>5086</th>\n",
       "      <td>Multi-Race</td>\n",
       "      <td>40752</td>\n",
       "      <td>1.5</td>\n",
       "      <td>626</td>\n",
       "      <td>1.3</td>\n",
       "      <td>2.2</td>\n",
       "      <td>2/24/2021</td>\n",
       "    </tr>\n",
       "    <tr>\n",
       "      <th>5087</th>\n",
       "      <td>American Indian or Alaska Native</td>\n",
       "      <td>8770</td>\n",
       "      <td>0.3</td>\n",
       "      <td>167</td>\n",
       "      <td>0.3</td>\n",
       "      <td>0.5</td>\n",
       "      <td>2/24/2021</td>\n",
       "    </tr>\n",
       "    <tr>\n",
       "      <th>5088</th>\n",
       "      <td>Native Hawaiian and other Pacific Islander</td>\n",
       "      <td>15097</td>\n",
       "      <td>0.6</td>\n",
       "      <td>302</td>\n",
       "      <td>0.6</td>\n",
       "      <td>0.3</td>\n",
       "      <td>2/24/2021</td>\n",
       "    </tr>\n",
       "    <tr>\n",
       "      <th>5089</th>\n",
       "      <td>Other</td>\n",
       "      <td>306466</td>\n",
       "      <td>11.5</td>\n",
       "      <td>1084</td>\n",
       "      <td>2.2</td>\n",
       "      <td>0</td>\n",
       "      <td>2/24/2021</td>\n",
       "    </tr>\n",
       "    <tr>\n",
       "      <th>5090</th>\n",
       "      <td>&gt;&gt;&gt;&gt;&gt;&gt;&gt; e803abca8ad3094f0700bcf3636bd9417aa87c4f</td>\n",
       "      <td>NaN</td>\n",
       "      <td>NaN</td>\n",
       "      <td>NaN</td>\n",
       "      <td>NaN</td>\n",
       "      <td>NaN</td>\n",
       "      <td>NaN</td>\n",
       "    </tr>\n",
       "  </tbody>\n",
       "</table>\n",
       "<p>5091 rows × 7 columns</p>\n",
       "</div>"
      ],
      "text/plain": [
       "                                        race_ethnicity   cases  \\\n",
       "0                                               Latino    5276   \n",
       "1                                               Latino    5910   \n",
       "2                                               Latino    6433   \n",
       "3                                               Latino    7013   \n",
       "4                                               Latino    7627   \n",
       "...                                                ...     ...   \n",
       "5086                                        Multi-Race   40752   \n",
       "5087                  American Indian or Alaska Native    8770   \n",
       "5088        Native Hawaiian and other Pacific Islander   15097   \n",
       "5089                                             Other  306466   \n",
       "5090  >>>>>>> e803abca8ad3094f0700bcf3636bd9417aa87c4f     NaN   \n",
       "\n",
       "     case_percentage deaths death_percentage percent_ca_population       date  \n",
       "0              35.99    170            28.38                  38.9  4/13/2020  \n",
       "1              37.18    203            29.72                  38.9  4/14/2020  \n",
       "2               37.8    226             29.7                  38.9  4/15/2020  \n",
       "3              38.51    254            29.85                  38.9  4/16/2020  \n",
       "4              39.41    281            30.58                  38.9  4/17/2020  \n",
       "...              ...    ...              ...                   ...        ...  \n",
       "5086             1.5    626              1.3                   2.2  2/24/2021  \n",
       "5087             0.3    167              0.3                   0.5  2/24/2021  \n",
       "5088             0.6    302              0.6                   0.3  2/24/2021  \n",
       "5089            11.5   1084              2.2                     0  2/24/2021  \n",
       "5090             NaN    NaN              NaN                   NaN        NaN  \n",
       "\n",
       "[5091 rows x 7 columns]"
      ]
     },
     "execution_count": 229,
     "metadata": {},
     "output_type": "execute_result"
    }
   ],
   "source": [
    "df"
   ]
  },
  {
   "cell_type": "code",
   "execution_count": 230,
   "metadata": {},
   "outputs": [
    {
     "data": {
      "text/plain": [
       "race_ethnicity           5091\n",
       "cases                    5089\n",
       "case_percentage          5089\n",
       "deaths                   5089\n",
       "death_percentage         5089\n",
       "percent_ca_population    5089\n",
       "date                     5089\n",
       "dtype: int64"
      ]
     },
     "execution_count": 230,
     "metadata": {},
     "output_type": "execute_result"
    }
   ],
   "source": [
    "df.count()"
   ]
  },
  {
   "cell_type": "code",
   "execution_count": 231,
   "metadata": {},
   "outputs": [
    {
     "data": {
      "text/plain": [
       "race_ethnicity           5089\n",
       "cases                    5089\n",
       "case_percentage          5089\n",
       "deaths                   5089\n",
       "death_percentage         5089\n",
       "percent_ca_population    5089\n",
       "date                     5089\n",
       "dtype: int64"
      ]
     },
     "execution_count": 231,
     "metadata": {},
     "output_type": "execute_result"
    }
   ],
   "source": [
    "#Dropping lines with no data\n",
    "\n",
    "Ethnicity_df=df.dropna(how=\"any\")\n",
    "Ethnicity_df.count()"
   ]
  },
  {
   "cell_type": "code",
   "execution_count": 232,
   "metadata": {},
   "outputs": [
    {
     "data": {
      "text/plain": [
       "race_ethnicity             11\n",
       "cases                    2461\n",
       "case_percentage           402\n",
       "deaths                   1431\n",
       "death_percentage          380\n",
       "percent_ca_population       9\n",
       "date                      319\n",
       "dtype: int64"
      ]
     },
     "execution_count": 232,
     "metadata": {},
     "output_type": "execute_result"
    }
   ],
   "source": [
    "Ethnicity_df.nunique()\n"
   ]
  },
  {
   "cell_type": "code",
   "execution_count": 233,
   "metadata": {},
   "outputs": [
    {
     "data": {
      "text/plain": [
       "White                                         636\n",
       "Latino                                        636\n",
       "Other                                         636\n",
       "American Indian or Alaska Native              636\n",
       "Black                                         636\n",
       "Asian                                         636\n",
       "Multi-Race                                    538\n",
       "Native Hawaiian and other Pacific Islander    538\n",
       "Native Hawaiian or Pacific Islander            98\n",
       "Multiracial                                    98\n",
       "race_ethnicity                                  1\n",
       "Name: race_ethnicity, dtype: int64"
      ]
     },
     "execution_count": 233,
     "metadata": {},
     "output_type": "execute_result"
    }
   ],
   "source": [
    "Ethnicity_df[\"race_ethnicity\"].value_counts()"
   ]
  },
  {
   "cell_type": "code",
   "execution_count": 234,
   "metadata": {},
   "outputs": [
    {
     "data": {
      "text/html": [
       "<div>\n",
       "<style scoped>\n",
       "    .dataframe tbody tr th:only-of-type {\n",
       "        vertical-align: middle;\n",
       "    }\n",
       "\n",
       "    .dataframe tbody tr th {\n",
       "        vertical-align: top;\n",
       "    }\n",
       "\n",
       "    .dataframe thead th {\n",
       "        text-align: right;\n",
       "    }\n",
       "</style>\n",
       "<table border=\"1\" class=\"dataframe\">\n",
       "  <thead>\n",
       "    <tr style=\"text-align: right;\">\n",
       "      <th></th>\n",
       "      <th>race_ethnicity</th>\n",
       "      <th>cases</th>\n",
       "      <th>case_percentage</th>\n",
       "      <th>deaths</th>\n",
       "      <th>death_percentage</th>\n",
       "      <th>percent_ca_population</th>\n",
       "      <th>date</th>\n",
       "    </tr>\n",
       "  </thead>\n",
       "  <tbody>\n",
       "    <tr>\n",
       "      <th>2545</th>\n",
       "      <td>race_ethnicity</td>\n",
       "      <td>cases</td>\n",
       "      <td>case_percentage</td>\n",
       "      <td>deaths</td>\n",
       "      <td>death_percentage</td>\n",
       "      <td>percent_ca_population</td>\n",
       "      <td>date</td>\n",
       "    </tr>\n",
       "  </tbody>\n",
       "</table>\n",
       "</div>"
      ],
      "text/plain": [
       "      race_ethnicity  cases  case_percentage  deaths  death_percentage  \\\n",
       "2545  race_ethnicity  cases  case_percentage  deaths  death_percentage   \n",
       "\n",
       "      percent_ca_population  date  \n",
       "2545  percent_ca_population  date  "
      ]
     },
     "execution_count": 234,
     "metadata": {},
     "output_type": "execute_result"
    }
   ],
   "source": [
    "Ethnicity_df.loc[Ethnicity_df[\"race_ethnicity\"]==\"race_ethnicity\", : ]"
   ]
  },
  {
   "cell_type": "code",
   "execution_count": 235,
   "metadata": {},
   "outputs": [
    {
     "data": {
      "text/plain": [
       "White                                         636\n",
       "Latino                                        636\n",
       "Other                                         636\n",
       "American Indian or Alaska Native              636\n",
       "Black                                         636\n",
       "Asian                                         636\n",
       "Multi-Race                                    538\n",
       "Native Hawaiian and other Pacific Islander    538\n",
       "Native Hawaiian or Pacific Islander            98\n",
       "Multiracial                                    98\n",
       "Name: race_ethnicity, dtype: int64"
      ]
     },
     "execution_count": 235,
     "metadata": {},
     "output_type": "execute_result"
    }
   ],
   "source": [
    "#Cleaning up Ethnicity colmn \n",
    "\n",
    "Ethnicity_df=Ethnicity_df.loc[(Ethnicity_df[\"race_ethnicity\"]!=\"race_ethnicity\")]\n",
    "Ethnicity_df[\"race_ethnicity\"].value_counts()"
   ]
  },
  {
   "cell_type": "code",
   "execution_count": 179,
   "metadata": {},
   "outputs": [
    {
     "data": {
      "text/plain": [
       "318"
      ]
     },
     "execution_count": 179,
     "metadata": {},
     "output_type": "execute_result"
    }
   ],
   "source": [
    "#Varifying dates are good \n",
    "Ethnicity_df[\"date\"].nunique()\n"
   ]
  },
  {
   "cell_type": "code",
   "execution_count": 180,
   "metadata": {},
   "outputs": [],
   "source": [
    "#Latino Cases Per month \n",
    "\n",
    "Latino=Ethnicity_df.loc[Ethnicity_df[\"race_ethnicity\"]==\"Latino\"]\n",
    "Latino_April=Latino.iloc[0:18, 0:7]\n",
    "Latino_May=Latino.iloc[18:49, 0:7]\n",
    "Latino_June=Latino.iloc[49:79, 0:7]\n",
    "Latino_July=Latino.iloc[79:111, 0:7]\n",
    "Latino_August=Latino.iloc[111:141, 0:7]\n",
    "Latino_September=Latino.iloc[141:171, 0:7]\n",
    "Latino_October=Latino.iloc[171:202, 0:7]\n",
    "Latino_November=Latino.iloc[202:232, 0:7]\n",
    "Latino_December=Latino.iloc[232:263, 0:7]\n",
    "Latino_January=Latino.iloc[263:294, 0:7]\n",
    "Latino_February=Latino.iloc[294:318, 0:7]\n"
   ]
  },
  {
   "cell_type": "code",
   "execution_count": 181,
   "metadata": {},
   "outputs": [],
   "source": [
    "#White cases per month \n",
    "\n",
    "White=Ethnicity_df.loc[Ethnicity_df[\"race_ethnicity\"]==\"White\"]\n",
    "White_April=White.iloc[0:18, 0:7]\n",
    "White_May=White.iloc[18:49, 0:7]\n",
    "White_June=White.iloc[49:79, 0:7]\n",
    "White_July=White.iloc[79:111, 0:7]\n",
    "White_August=White.iloc[111:141, 0:7]\n",
    "White_September=White.iloc[141:171, 0:7]\n",
    "White_October=White.iloc[171:202, 0:7]\n",
    "White_November=White.iloc[202:232, 0:7]\n",
    "White_December=White.iloc[232:263, 0:7]\n",
    "White_January=White.iloc[263:294, 0:7]\n",
    "White_February=White.iloc[294:318, 0:7]\n"
   ]
  },
  {
   "cell_type": "code",
   "execution_count": 182,
   "metadata": {},
   "outputs": [],
   "source": [
    "#Other cases per month \n",
    "\n",
    "Other=Ethnicity_df.loc[Ethnicity_df[\"race_ethnicity\"]==\"Other\"]\n",
    "Other_April=Other.iloc[0:18, 0:7]\n",
    "Other_May=Other.iloc[18:49, 0:7]\n",
    "Other_June=Other.iloc[49:79, 0:7]\n",
    "Other_July=Other.iloc[79:111, 0:7]\n",
    "Other_August=Other.iloc[111:141, 0:7]\n",
    "Other_September=Other.iloc[141:171, 0:7]\n",
    "Other_October=Other.iloc[171:202, 0:7]\n",
    "Other_November=Other.iloc[202:232, 0:7]\n",
    "Other_December=Other.iloc[232:263, 0:7]\n",
    "Other_January=Other.iloc[263:294, 0:7]\n",
    "Other_February=Other.iloc[294:318, 0:7]"
   ]
  },
  {
   "cell_type": "code",
   "execution_count": 183,
   "metadata": {},
   "outputs": [],
   "source": [
    "#American Indian or Alaska Native  cases per month \n",
    "\n",
    "Idian_Alaska=Ethnicity_df.loc[Ethnicity_df[\"race_ethnicity\"]==\"American Indian or Alaska Native \"]\n",
    "Idian_Alaska_April=Idian_Alaska.iloc[0:18, 0:7]\n",
    "Idian_Alaska_May=Idian_Alaska.iloc[18:49, 0:7]\n",
    "Idian_Alaska_June=Idian_Alaska.iloc[49:79, 0:7]\n",
    "Idian_Alaska_July=Idian_Alaska.iloc[79:111, 0:7]\n",
    "Idian_Alaska_August=Idian_Alaska.iloc[111:141, 0:7]\n",
    "Idian_Alaska_September=Idian_Alaska.iloc[141:171, 0:7]\n",
    "Idian_Alaska_October=Idian_Alaska.iloc[171:202, 0:7]\n",
    "Idian_Alaska_November=Idian_Alaska.iloc[202:232, 0:7]\n",
    "Idian_Alaska_December=Idian_Alaska.iloc[232:263, 0:7]\n",
    "Idian_Alaska_January=Idian_Alaska.iloc[263:294, 0:7]\n",
    "Idian_Alaska_February=Idian_Alaska.iloc[294:318, 0:7]                              "
   ]
  },
  {
   "cell_type": "code",
   "execution_count": 184,
   "metadata": {},
   "outputs": [],
   "source": [
    "#Black cases per month \n",
    "\n",
    "Black=Ethnicity_df.loc[Ethnicity_df[\"race_ethnicity\"]==\"Black\"]\n",
    "Black_April=Black.iloc[0:18, 0:7]\n",
    "Black_May=Black.iloc[18:49, 0:7]\n",
    "Black_June=Black.iloc[49:79, 0:7]\n",
    "Black_July=Black.iloc[79:111, 0:7]\n",
    "Black_August=Black.iloc[111:141, 0:7]\n",
    "Black_September=Black.iloc[141:171, 0:7]\n",
    "Black_October=Black.iloc[171:202, 0:7]\n",
    "Black_November=Black.iloc[202:232, 0:7]\n",
    "Black_December=Black.iloc[232:263, 0:7]\n",
    "Black_January=Black.iloc[263:294, 0:7]\n",
    "Black_February=Black.iloc[294:318, 0:7]\n"
   ]
  },
  {
   "cell_type": "code",
   "execution_count": 185,
   "metadata": {},
   "outputs": [],
   "source": [
    "#Asian cases per month \n",
    "\n",
    "Asian=Ethnicity_df.loc[Ethnicity_df[\"race_ethnicity\"]==\"Asian\"]\n",
    "Asian_April=Asian.iloc[0:18, 0:7]\n",
    "Asian_May=Asian.iloc[18:49, 0:7]\n",
    "Asian_June=Asian.iloc[49:79, 0:7]\n",
    "Asian_July=Asian.iloc[79:111, 0:7]\n",
    "Asian_August=Asian.iloc[111:141, 0:7]\n",
    "Asian_September=Asian.iloc[141:171, 0:7]\n",
    "Asian_October=Asian.iloc[171:202, 0:7]\n",
    "Asian_November=Asian.iloc[202:232, 0:7]\n",
    "Asian_December=Asian.iloc[232:263, 0:7]\n",
    "Asian_January=Asian.iloc[263:294, 0:7]\n",
    "Asian_February=Asian.iloc[294:318, 0:7]"
   ]
  },
  {
   "cell_type": "code",
   "execution_count": 186,
   "metadata": {},
   "outputs": [],
   "source": [
    "#Multi-Race cases per month \n",
    "\n",
    "Multi_Race=Ethnicity_df.loc[Ethnicity_df[\"race_ethnicity\"]==\"Multi-Race\"]\n",
    "Multi_Race_April=Multi_Race.iloc[0:18, 0:7]\n",
    "Multi_Race_May=Multi_Race.iloc[18:49, 0:7]\n",
    "Multi_Race_June=Multi_Race.iloc[49:79, 0:7]\n",
    "Multi_Race_July=Multi_Race.iloc[79:111, 0:7]\n",
    "Multi_Race_August=Multi_Race.iloc[111:141, 0:7]\n",
    "Multi_Race_September=Multi_Race.iloc[141:171, 0:7]\n",
    "Multi_Race_October=Multi_Race.iloc[171:202, 0:7]\n",
    "Multi_Race_November=Multi_Race.iloc[202:232, 0:7]\n",
    "Multi_Race_December=Multi_Race.iloc[232:263, 0:7]\n",
    "Multi_Race_January=Multi_Race.iloc[263:294, 0:7]\n",
    "Multi_Race_February=Multi_Race.iloc[294:318, 0:7]"
   ]
  },
  {
   "cell_type": "code",
   "execution_count": 187,
   "metadata": {},
   "outputs": [],
   "source": [
    "#Native Hawaiian and other Pacific Islander  cases per month \n",
    "\n",
    "Hawaiian_Pacific=Ethnicity_df.loc[Ethnicity_df[\"race_ethnicity\"]==\"Native Hawaiian and other Pacific Islander \"]\n",
    "Hawaiian_Pacific_April=Hawaiian_Pacific.iloc[0:18, 0:7]\n",
    "Hawaiian_Pacific_May=Hawaiian_Pacific.iloc[18:49, 0:7]\n",
    "Hawaiian_Pacific_June=Hawaiian_Pacific.iloc[49:79, 0:7]\n",
    "Hawaiian_Pacific_July=Hawaiian_Pacific.iloc[79:111, 0:7]\n",
    "Hawaiian_Pacific_August=Hawaiian_Pacific.iloc[111:141, 0:7]\n",
    "Hawaiian_Pacific_September=Hawaiian_Pacific.iloc[141:171, 0:7]\n",
    "Hawaiian_Pacific_October=Hawaiian_Pacific.iloc[171:202, 0:7]\n",
    "Hawaiian_Pacific_November=Hawaiian_Pacific.iloc[202:232, 0:7]\n",
    "Hawaiian_Pacific_December=Hawaiian_Pacific.iloc[232:263, 0:7]\n",
    "Hawaiian_Pacific_January=Hawaiian_Pacific.iloc[263:294, 0:7]\n",
    "Hawaiian_Pacific_February=Hawaiian_Pacific.iloc[294:318, 0:7]"
   ]
  },
  {
   "cell_type": "code",
   "execution_count": 188,
   "metadata": {},
   "outputs": [],
   "source": [
    "#Native Hawaiian or Pacific Islander  cases per month \n",
    "\n",
    "Pacific_Islander=Ethnicity_df.loc[Ethnicity_df[\"race_ethnicity\"]==\"Native Hawaiian or Pacific Islander \"]\n",
    "Pacific_Islander_April=Pacific_Islander.iloc[0:18, 0:7]\n",
    "Pacific_Islander_May=Pacific_Islander.iloc[18:49, 0:7]\n",
    "Pacific_Islander_June=Pacific_Islander.iloc[49:79, 0:7]\n",
    "Pacific_Islander_July=Pacific_Islander.iloc[79:111, 0:7]\n",
    "Pacific_Islander_August=Pacific_Islander.iloc[111:141, 0:7]\n",
    "Pacific_Islander_September=Pacific_Islander.iloc[141:171, 0:7]\n",
    "Pacific_Islander_October=Pacific_Islander.iloc[171:202, 0:7]\n",
    "Pacific_Islander_November=Pacific_Islander.iloc[202:232, 0:7]\n",
    "Pacific_Islander_December=Pacific_Islander.iloc[232:263, 0:7]\n",
    "Pacific_Islander_January=Pacific_Islander.iloc[263:294, 0:7]\n",
    "Pacific_Islander_February=Pacific_Islander.iloc[294:318, 0:7]"
   ]
  },
  {
   "cell_type": "code",
   "execution_count": 206,
   "metadata": {},
   "outputs": [
    {
     "data": {
      "text/plain": [
       "pandas.core.frame.DataFrame"
      ]
     },
     "execution_count": 206,
     "metadata": {},
     "output_type": "execute_result"
    }
   ],
   "source": [
    "#Multiracial cases per month \n",
    "\n",
    "Multiracial=Ethnicity_df.loc[Ethnicity_df[\"race_ethnicity\"]==\"Multiracial\"]\n",
    "Multiracial_April=Asian.iloc[0:18, 0:7]\n",
    "Multiracial_May=Asian.iloc[18:49, 0:7]\n",
    "Multiracial_June=Asian.iloc[49:79, 0:7]\n",
    "Multiracial_July=Asian.iloc[79:111, 0:7]\n",
    "Multiracial_August=Asian.iloc[111:141, 0:7]\n",
    "Multiracial_September=Asian.iloc[141:171, 0:7]\n",
    "Multiracial_October=Asian.iloc[171:202, 0:7]\n",
    "Multiracial_November=Asian.iloc[202:232, 0:7]\n",
    "Multiracial_December=Asian.iloc[232:263, 0:7]\n",
    "Multiracial_January=Asian.iloc[263:294, 0:7]\n",
    "Multiracial_February=Asian.iloc[294:318, 0:7]\n",
    "type(Multiracial_February)"
   ]
  },
  {
   "cell_type": "code",
   "execution_count": 190,
   "metadata": {},
   "outputs": [
    {
     "data": {
      "text/html": [
       "<div>\n",
       "<style scoped>\n",
       "    .dataframe tbody tr th:only-of-type {\n",
       "        vertical-align: middle;\n",
       "    }\n",
       "\n",
       "    .dataframe tbody tr th {\n",
       "        vertical-align: top;\n",
       "    }\n",
       "\n",
       "    .dataframe thead th {\n",
       "        text-align: right;\n",
       "    }\n",
       "</style>\n",
       "<table border=\"1\" class=\"dataframe\">\n",
       "  <thead>\n",
       "    <tr style=\"text-align: right;\">\n",
       "      <th></th>\n",
       "      <th>White</th>\n",
       "      <th>Latino</th>\n",
       "      <th>other</th>\n",
       "      <th>American Indian or Alaska Native</th>\n",
       "      <th>Black</th>\n",
       "      <th>Asian</th>\n",
       "      <th>Multi-Race</th>\n",
       "      <th>Native Hawaiian and other Pacific Islander</th>\n",
       "      <th>Native Hawaiian or Pacific Islander</th>\n",
       "      <th>Multiracial</th>\n",
       "    </tr>\n",
       "  </thead>\n",
       "  <tbody>\n",
       "    <tr>\n",
       "      <th>0</th>\n",
       "      <td>race_ethnicity cases case_percentage deaths...</td>\n",
       "      <td>race_ethnicity  cases case_percentage death...</td>\n",
       "      <td>race_ethnicity cases case_percentage death...</td>\n",
       "      <td>Empty DataFrame\n",
       "Columns: [race_ethnicity, case...</td>\n",
       "      <td>race_ethnicity cases case_percentage death...</td>\n",
       "      <td>race_ethnicity cases case_percentage deaths...</td>\n",
       "      <td>race_ethnicity  cases case_percentage dea...</td>\n",
       "      <td>Empty DataFrame\n",
       "Columns: [race_ethnicity, case...</td>\n",
       "      <td>Empty DataFrame\n",
       "Columns: [race_ethnicity, case...</td>\n",
       "      <td>race_ethnicity cases case_percentage deaths...</td>\n",
       "    </tr>\n",
       "  </tbody>\n",
       "</table>\n",
       "</div>"
      ],
      "text/plain": [
       "                                               White  \\\n",
       "0     race_ethnicity cases case_percentage deaths...   \n",
       "\n",
       "                                              Latino  \\\n",
       "0     race_ethnicity  cases case_percentage death...   \n",
       "\n",
       "                                               other  \\\n",
       "0      race_ethnicity cases case_percentage death...   \n",
       "\n",
       "                    American Indian or Alaska Native  \\\n",
       "0  Empty DataFrame\n",
       "Columns: [race_ethnicity, case...   \n",
       "\n",
       "                                               Black  \\\n",
       "0      race_ethnicity cases case_percentage death...   \n",
       "\n",
       "                                               Asian  \\\n",
       "0     race_ethnicity cases case_percentage deaths...   \n",
       "\n",
       "                                          Multi-Race  \\\n",
       "0       race_ethnicity  cases case_percentage dea...   \n",
       "\n",
       "          Native Hawaiian and other Pacific Islander  \\\n",
       "0  Empty DataFrame\n",
       "Columns: [race_ethnicity, case...   \n",
       "\n",
       "                 Native Hawaiian or Pacific Islander  \\\n",
       "0  Empty DataFrame\n",
       "Columns: [race_ethnicity, case...   \n",
       "\n",
       "                                         Multiracial  \n",
       "0     race_ethnicity cases case_percentage deaths...  "
      ]
     },
     "execution_count": 190,
     "metadata": {},
     "output_type": "execute_result"
    }
   ],
   "source": [
    "#Creating Data drame to hold month of april cases by race \n",
    "April_df=pd.DataFrame({\"White\":[White_April],\n",
    "                      \"Latino\":[Latino_April],\n",
    "                      \"other\":[Other_April],\n",
    "                      \"American Indian or Alaska Native\":[Idian_Alaska_April],\n",
    "                      \"Black\":[Black_April],\n",
    "                      \"Asian\":[Asian_April],\n",
    "                      \"Multi-Race\":[Multi_Race],\n",
    "                      \"Native Hawaiian and other Pacific Islander\":[Hawaiian_Pacific_April],\n",
    "                      \"Native Hawaiian or Pacific Islander\":[Pacific_Islander_April],\n",
    "                      \"Multiracial\":[Multiracial_April]\n",
    "                      })\n",
    "# April_df=pd.DataFrame(Apr_cases, columns=[\"White\",\"Latino\",\"other\",\"American Indian or Alaska Native\",\"Black\",\"Asian\",\"Multi-Race\",\"Native Hawaiian and other Pacific Islander\",\"Native Hawaiian or Pacific Islander\",\"Multiracial\"])\n",
    "                    \n",
    "April_df"
   ]
  },
  {
   "cell_type": "code",
   "execution_count": 201,
   "metadata": {},
   "outputs": [
    {
     "data": {
      "text/html": [
       "<div>\n",
       "<style scoped>\n",
       "    .dataframe tbody tr th:only-of-type {\n",
       "        vertical-align: middle;\n",
       "    }\n",
       "\n",
       "    .dataframe tbody tr th {\n",
       "        vertical-align: top;\n",
       "    }\n",
       "\n",
       "    .dataframe thead th {\n",
       "        text-align: right;\n",
       "    }\n",
       "</style>\n",
       "<table border=\"1\" class=\"dataframe\">\n",
       "  <thead>\n",
       "    <tr style=\"text-align: right;\">\n",
       "      <th></th>\n",
       "      <th>race_ethnicity</th>\n",
       "      <th>cases</th>\n",
       "      <th>case_percentage</th>\n",
       "      <th>deaths</th>\n",
       "      <th>death_percentage</th>\n",
       "      <th>percent_ca_population</th>\n",
       "      <th>date</th>\n",
       "    </tr>\n",
       "  </thead>\n",
       "  <tbody>\n",
       "    <tr>\n",
       "      <th>0</th>\n",
       "      <td>Latino</td>\n",
       "      <td>5276</td>\n",
       "      <td>35.99</td>\n",
       "      <td>170</td>\n",
       "      <td>28.38</td>\n",
       "      <td>38.9</td>\n",
       "      <td>4/13/2020</td>\n",
       "    </tr>\n",
       "    <tr>\n",
       "      <th>1</th>\n",
       "      <td>Latino</td>\n",
       "      <td>5910</td>\n",
       "      <td>37.18</td>\n",
       "      <td>203</td>\n",
       "      <td>29.72</td>\n",
       "      <td>38.9</td>\n",
       "      <td>4/14/2020</td>\n",
       "    </tr>\n",
       "    <tr>\n",
       "      <th>2</th>\n",
       "      <td>Latino</td>\n",
       "      <td>6433</td>\n",
       "      <td>37.8</td>\n",
       "      <td>226</td>\n",
       "      <td>29.7</td>\n",
       "      <td>38.9</td>\n",
       "      <td>4/15/2020</td>\n",
       "    </tr>\n",
       "    <tr>\n",
       "      <th>3</th>\n",
       "      <td>Latino</td>\n",
       "      <td>7013</td>\n",
       "      <td>38.51</td>\n",
       "      <td>254</td>\n",
       "      <td>29.85</td>\n",
       "      <td>38.9</td>\n",
       "      <td>4/16/2020</td>\n",
       "    </tr>\n",
       "    <tr>\n",
       "      <th>4</th>\n",
       "      <td>Latino</td>\n",
       "      <td>7627</td>\n",
       "      <td>39.41</td>\n",
       "      <td>281</td>\n",
       "      <td>30.58</td>\n",
       "      <td>38.9</td>\n",
       "      <td>4/17/2020</td>\n",
       "    </tr>\n",
       "  </tbody>\n",
       "</table>\n",
       "</div>"
      ],
      "text/plain": [
       "  race_ethnicity cases case_percentage deaths death_percentage  \\\n",
       "0         Latino  5276           35.99    170            28.38   \n",
       "1         Latino  5910           37.18    203            29.72   \n",
       "2         Latino  6433            37.8    226             29.7   \n",
       "3         Latino  7013           38.51    254            29.85   \n",
       "4         Latino  7627           39.41    281            30.58   \n",
       "\n",
       "  percent_ca_population       date  \n",
       "0                  38.9  4/13/2020  \n",
       "1                  38.9  4/14/2020  \n",
       "2                  38.9  4/15/2020  \n",
       "3                  38.9  4/16/2020  \n",
       "4                  38.9  4/17/2020  "
      ]
     },
     "execution_count": 201,
     "metadata": {},
     "output_type": "execute_result"
    }
   ],
   "source": [
    "Ethnicity_df.head()"
   ]
  },
  {
   "cell_type": "code",
   "execution_count": 281,
   "metadata": {},
   "outputs": [
    {
     "data": {
      "text/html": [
       "<div>\n",
       "<style scoped>\n",
       "    .dataframe tbody tr th:only-of-type {\n",
       "        vertical-align: middle;\n",
       "    }\n",
       "\n",
       "    .dataframe tbody tr th {\n",
       "        vertical-align: top;\n",
       "    }\n",
       "\n",
       "    .dataframe thead th {\n",
       "        text-align: right;\n",
       "    }\n",
       "</style>\n",
       "<table border=\"1\" class=\"dataframe\">\n",
       "  <thead>\n",
       "    <tr style=\"text-align: right;\">\n",
       "      <th></th>\n",
       "      <th>race_ethnicity</th>\n",
       "      <th>cases</th>\n",
       "    </tr>\n",
       "  </thead>\n",
       "  <tbody>\n",
       "    <tr>\n",
       "      <th>count</th>\n",
       "      <td>5088</td>\n",
       "      <td>5088</td>\n",
       "    </tr>\n",
       "    <tr>\n",
       "      <th>unique</th>\n",
       "      <td>10</td>\n",
       "      <td>2460</td>\n",
       "    </tr>\n",
       "    <tr>\n",
       "      <th>top</th>\n",
       "      <td>White</td>\n",
       "      <td>683</td>\n",
       "    </tr>\n",
       "    <tr>\n",
       "      <th>freq</th>\n",
       "      <td>636</td>\n",
       "      <td>6</td>\n",
       "    </tr>\n",
       "  </tbody>\n",
       "</table>\n",
       "</div>"
      ],
      "text/plain": [
       "       race_ethnicity cases\n",
       "count            5088  5088\n",
       "unique             10  2460\n",
       "top             White   683\n",
       "freq              636     6"
      ]
     },
     "execution_count": 281,
     "metadata": {},
     "output_type": "execute_result"
    }
   ],
   "source": [
    "Ethnicity_df[[\"race_ethnicity\",\"cases\"]].describe()"
   ]
  },
  {
   "cell_type": "code",
   "execution_count": 260,
   "metadata": {},
   "outputs": [
    {
     "data": {
      "text/plain": [
       "Text(0.5, 1.0, 'Percentage of Ethnicities impacted by COVID in California')"
      ]
     },
     "execution_count": 260,
     "metadata": {},
     "output_type": "execute_result"
    },
    {
     "data": {
      "image/png": "[encoded data removed]",
      "text/plain": [
       "<Figure size 432x288 with 1 Axes>"
      ]
     },
     "metadata": {},
     "output_type": "display_data"
    }
   ],
   "source": [
    "explode= (0.1,0.05,0.05,0.05,0.05,0.05,0.05,0.1,0.1,0.1)\n",
    "\n",
    "sizes= Ethnicity_df[\"race_ethnicity\"].value_counts()\n",
    "\n",
    "labels=Ethnicity_df[\"race_ethnicity\"].unique()\n",
    "\n",
    "plt.pie(sizes, labels=labels,explode=explode,\n",
    "        autopct=\"%1.1f%%\", shadow=True, startangle=140)\n",
    "plt.title(\"Percentage of Ethnicities impacted by COVID in California\")"
   ]
  },
  {
   "cell_type": "code",
   "execution_count": 208,
   "metadata": {},
   "outputs": [
    {
     "data": {
      "image/png": "[encoded data removed]",
      "text/plain": [
       "<Figure size 432x288 with 1 Axes>"
      ]
     },
     "metadata": {
      "needs_background": "light"
     },
     "output_type": "display_data"
    }
   ],
   "source": [
    "Bar1= Ethnicity_df[[\"race_ethnicity\",\"cases\",\"deaths\",\"percent_ca_population\"]]\n",
    "\n",
    "x_values = Bar1[\"race_ethnicity\"]\n",
    "y_values = Bar1[\"percent_ca_population\"]\n",
    "\n",
    "\n",
    "plt.bar(x_values,y_values, alpha=0.5, align=\"center\")\n",
    "plt.xticks(rotation=\"vertical\")\n",
    "plt.title(\"Ethnicity vs. Perentage of Population\")\n",
    "plt.xlabel('Ethnicity')\n",
    "plt.ylabel('Percentage(%)')\n",
    "plt.show()"
   ]
  },
  {
   "cell_type": "code",
   "execution_count": null,
   "metadata": {},
   "outputs": [],
   "source": []
  }
 ],
 "metadata": {
  "kernelspec": {
   "display_name": "Python 3",
   "language": "python",
   "name": "python3"
  },
  "language_info": {
   "codemirror_mode": {
    "name": "ipython",
    "version": 3
   },
   "file_extension": ".py",
   "mimetype": "text/x-python",
   "name": "python",
   "nbconvert_exporter": "python",
   "pygments_lexer": "ipython3",
   "version": "3.8.5"
  }
 },
 "nbformat": 4,
 "nbformat_minor": 4
}
