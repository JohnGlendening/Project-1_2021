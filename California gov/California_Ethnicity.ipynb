{
 "cells": [
  {
   "cell_type": "code",
   "execution_count": 106,
   "metadata": {},
   "outputs": [],
   "source": [
    "# Dependencies and Setup\n",
    "import matplotlib.pyplot as plt\n",
    "import pandas as pd\n",
    "import scipy.stats as st\n",
    "import numpy as np\n",
    "from scipy.stats import sem\n",
    "import random\n",
    "from scipy.stats import linregress\n",
    "from sklearn import datasets\n",
    "import scipy.stats as sts\n",
    "import requests\n",
    "import time\n",
    "from scipy.stats import linregress\n"
   ]
  },
  {
   "cell_type": "code",
   "execution_count": 107,
   "metadata": {},
   "outputs": [],
   "source": [
    "# File to Load (Remember to Change These)\n",
    "file= \"case_demographics_ethnicity.csv\"\n",
    "\n",
    "# Read Purchasing File and store into Pandas data frame\n",
    "df= pd.read_csv(file)\n"
   ]
  },
  {
   "cell_type": "code",
   "execution_count": 108,
   "metadata": {},
   "outputs": [
    {
     "data": {
      "text/html": [
       "<div>\n",
       "<style scoped>\n",
       "    .dataframe tbody tr th:only-of-type {\n",
       "        vertical-align: middle;\n",
       "    }\n",
       "\n",
       "    .dataframe tbody tr th {\n",
       "        vertical-align: top;\n",
       "    }\n",
       "\n",
       "    .dataframe thead th {\n",
       "        text-align: right;\n",
       "    }\n",
       "</style>\n",
       "<table border=\"1\" class=\"dataframe\">\n",
       "  <thead>\n",
       "    <tr style=\"text-align: right;\">\n",
       "      <th></th>\n",
       "      <th>race_ethnicity</th>\n",
       "      <th>cases</th>\n",
       "      <th>case_percentage</th>\n",
       "      <th>deaths</th>\n",
       "      <th>death_percentage</th>\n",
       "      <th>percent_ca_population</th>\n",
       "      <th>date</th>\n",
       "    </tr>\n",
       "  </thead>\n",
       "  <tbody>\n",
       "    <tr>\n",
       "      <th>0</th>\n",
       "      <td>Latino</td>\n",
       "      <td>5276</td>\n",
       "      <td>35.99</td>\n",
       "      <td>170</td>\n",
       "      <td>28.38</td>\n",
       "      <td>38.9</td>\n",
       "      <td>4/13/2020</td>\n",
       "    </tr>\n",
       "    <tr>\n",
       "      <th>1</th>\n",
       "      <td>Latino</td>\n",
       "      <td>5910</td>\n",
       "      <td>37.18</td>\n",
       "      <td>203</td>\n",
       "      <td>29.72</td>\n",
       "      <td>38.9</td>\n",
       "      <td>4/14/2020</td>\n",
       "    </tr>\n",
       "    <tr>\n",
       "      <th>2</th>\n",
       "      <td>Latino</td>\n",
       "      <td>6433</td>\n",
       "      <td>37.8</td>\n",
       "      <td>226</td>\n",
       "      <td>29.7</td>\n",
       "      <td>38.9</td>\n",
       "      <td>4/15/2020</td>\n",
       "    </tr>\n",
       "    <tr>\n",
       "      <th>3</th>\n",
       "      <td>Latino</td>\n",
       "      <td>7013</td>\n",
       "      <td>38.51</td>\n",
       "      <td>254</td>\n",
       "      <td>29.85</td>\n",
       "      <td>38.9</td>\n",
       "      <td>4/16/2020</td>\n",
       "    </tr>\n",
       "    <tr>\n",
       "      <th>4</th>\n",
       "      <td>Latino</td>\n",
       "      <td>7627</td>\n",
       "      <td>39.41</td>\n",
       "      <td>281</td>\n",
       "      <td>30.58</td>\n",
       "      <td>38.9</td>\n",
       "      <td>4/17/2020</td>\n",
       "    </tr>\n",
       "    <tr>\n",
       "      <th>...</th>\n",
       "      <td>...</td>\n",
       "      <td>...</td>\n",
       "      <td>...</td>\n",
       "      <td>...</td>\n",
       "      <td>...</td>\n",
       "      <td>...</td>\n",
       "      <td>...</td>\n",
       "    </tr>\n",
       "    <tr>\n",
       "      <th>5086</th>\n",
       "      <td>Multi-Race</td>\n",
       "      <td>40752</td>\n",
       "      <td>1.5</td>\n",
       "      <td>626</td>\n",
       "      <td>1.3</td>\n",
       "      <td>2.2</td>\n",
       "      <td>2/24/2021</td>\n",
       "    </tr>\n",
       "    <tr>\n",
       "      <th>5087</th>\n",
       "      <td>American Indian or Alaska Native</td>\n",
       "      <td>8770</td>\n",
       "      <td>0.3</td>\n",
       "      <td>167</td>\n",
       "      <td>0.3</td>\n",
       "      <td>0.5</td>\n",
       "      <td>2/24/2021</td>\n",
       "    </tr>\n",
       "    <tr>\n",
       "      <th>5088</th>\n",
       "      <td>Native Hawaiian and other Pacific Islander</td>\n",
       "      <td>15097</td>\n",
       "      <td>0.6</td>\n",
       "      <td>302</td>\n",
       "      <td>0.6</td>\n",
       "      <td>0.3</td>\n",
       "      <td>2/24/2021</td>\n",
       "    </tr>\n",
       "    <tr>\n",
       "      <th>5089</th>\n",
       "      <td>Other</td>\n",
       "      <td>306466</td>\n",
       "      <td>11.5</td>\n",
       "      <td>1084</td>\n",
       "      <td>2.2</td>\n",
       "      <td>0</td>\n",
       "      <td>2/24/2021</td>\n",
       "    </tr>\n",
       "    <tr>\n",
       "      <th>5090</th>\n",
       "      <td>&gt;&gt;&gt;&gt;&gt;&gt;&gt; e803abca8ad3094f0700bcf3636bd9417aa87c4f</td>\n",
       "      <td>NaN</td>\n",
       "      <td>NaN</td>\n",
       "      <td>NaN</td>\n",
       "      <td>NaN</td>\n",
       "      <td>NaN</td>\n",
       "      <td>NaN</td>\n",
       "    </tr>\n",
       "  </tbody>\n",
       "</table>\n",
       "<p>5091 rows × 7 columns</p>\n",
       "</div>"
      ],
      "text/plain": [
       "                                        race_ethnicity   cases  \\\n",
       "0                                               Latino    5276   \n",
       "1                                               Latino    5910   \n",
       "2                                               Latino    6433   \n",
       "3                                               Latino    7013   \n",
       "4                                               Latino    7627   \n",
       "...                                                ...     ...   \n",
       "5086                                        Multi-Race   40752   \n",
       "5087                  American Indian or Alaska Native    8770   \n",
       "5088        Native Hawaiian and other Pacific Islander   15097   \n",
       "5089                                             Other  306466   \n",
       "5090  >>>>>>> e803abca8ad3094f0700bcf3636bd9417aa87c4f     NaN   \n",
       "\n",
       "     case_percentage deaths death_percentage percent_ca_population       date  \n",
       "0              35.99    170            28.38                  38.9  4/13/2020  \n",
       "1              37.18    203            29.72                  38.9  4/14/2020  \n",
       "2               37.8    226             29.7                  38.9  4/15/2020  \n",
       "3              38.51    254            29.85                  38.9  4/16/2020  \n",
       "4              39.41    281            30.58                  38.9  4/17/2020  \n",
       "...              ...    ...              ...                   ...        ...  \n",
       "5086             1.5    626              1.3                   2.2  2/24/2021  \n",
       "5087             0.3    167              0.3                   0.5  2/24/2021  \n",
       "5088             0.6    302              0.6                   0.3  2/24/2021  \n",
       "5089            11.5   1084              2.2                     0  2/24/2021  \n",
       "5090             NaN    NaN              NaN                   NaN        NaN  \n",
       "\n",
       "[5091 rows x 7 columns]"
      ]
     },
     "execution_count": 108,
     "metadata": {},
     "output_type": "execute_result"
    }
   ],
   "source": [
    "df"
   ]
  },
  {
   "cell_type": "code",
   "execution_count": 109,
   "metadata": {},
   "outputs": [
    {
     "data": {
      "text/plain": [
       "race_ethnicity           5091\n",
       "cases                    5089\n",
       "case_percentage          5089\n",
       "deaths                   5089\n",
       "death_percentage         5089\n",
       "percent_ca_population    5089\n",
       "date                     5089\n",
       "dtype: int64"
      ]
     },
     "execution_count": 109,
     "metadata": {},
     "output_type": "execute_result"
    }
   ],
   "source": [
    "df.count()"
   ]
  },
  {
   "cell_type": "code",
   "execution_count": 110,
   "metadata": {},
   "outputs": [
    {
     "data": {
      "text/plain": [
       "race_ethnicity           5089\n",
       "cases                    5089\n",
       "case_percentage          5089\n",
       "deaths                   5089\n",
       "death_percentage         5089\n",
       "percent_ca_population    5089\n",
       "date                     5089\n",
       "dtype: int64"
      ]
     },
     "execution_count": 110,
     "metadata": {},
     "output_type": "execute_result"
    }
   ],
   "source": [
    "#Dropping lines with no data\n",
    "\n",
    "Ethnicity_df=df.dropna(how=\"any\")\n",
    "Ethnicity_df.count()"
   ]
  },
  {
   "cell_type": "code",
   "execution_count": 111,
   "metadata": {},
   "outputs": [
    {
     "data": {
      "text/plain": [
       "race_ethnicity             11\n",
       "cases                    2461\n",
       "case_percentage           402\n",
       "deaths                   1431\n",
       "death_percentage          380\n",
       "percent_ca_population       9\n",
       "date                      319\n",
       "dtype: int64"
      ]
     },
     "execution_count": 111,
     "metadata": {},
     "output_type": "execute_result"
    }
   ],
   "source": [
    "Ethnicity_df.nunique()\n"
   ]
  },
  {
   "cell_type": "code",
   "execution_count": 112,
   "metadata": {},
   "outputs": [
    {
     "data": {
      "text/plain": [
       "White                                         636\n",
       "Latino                                        636\n",
       "Other                                         636\n",
       "American Indian or Alaska Native              636\n",
       "Black                                         636\n",
       "Asian                                         636\n",
       "Multi-Race                                    538\n",
       "Native Hawaiian and other Pacific Islander    538\n",
       "Multiracial                                    98\n",
       "Native Hawaiian or Pacific Islander            98\n",
       "race_ethnicity                                  1\n",
       "Name: race_ethnicity, dtype: int64"
      ]
     },
     "execution_count": 112,
     "metadata": {},
     "output_type": "execute_result"
    }
   ],
   "source": [
    "Ethnicity_df[\"race_ethnicity\"].value_counts()"
   ]
  },
  {
   "cell_type": "code",
   "execution_count": 113,
   "metadata": {},
   "outputs": [
    {
     "data": {
      "text/html": [
       "<div>\n",
       "<style scoped>\n",
       "    .dataframe tbody tr th:only-of-type {\n",
       "        vertical-align: middle;\n",
       "    }\n",
       "\n",
       "    .dataframe tbody tr th {\n",
       "        vertical-align: top;\n",
       "    }\n",
       "\n",
       "    .dataframe thead th {\n",
       "        text-align: right;\n",
       "    }\n",
       "</style>\n",
       "<table border=\"1\" class=\"dataframe\">\n",
       "  <thead>\n",
       "    <tr style=\"text-align: right;\">\n",
       "      <th></th>\n",
       "      <th>race_ethnicity</th>\n",
       "      <th>cases</th>\n",
       "      <th>case_percentage</th>\n",
       "      <th>deaths</th>\n",
       "      <th>death_percentage</th>\n",
       "      <th>percent_ca_population</th>\n",
       "      <th>date</th>\n",
       "    </tr>\n",
       "  </thead>\n",
       "  <tbody>\n",
       "    <tr>\n",
       "      <th>2545</th>\n",
       "      <td>race_ethnicity</td>\n",
       "      <td>cases</td>\n",
       "      <td>case_percentage</td>\n",
       "      <td>deaths</td>\n",
       "      <td>death_percentage</td>\n",
       "      <td>percent_ca_population</td>\n",
       "      <td>date</td>\n",
       "    </tr>\n",
       "  </tbody>\n",
       "</table>\n",
       "</div>"
      ],
      "text/plain": [
       "      race_ethnicity  cases  case_percentage  deaths  death_percentage  \\\n",
       "2545  race_ethnicity  cases  case_percentage  deaths  death_percentage   \n",
       "\n",
       "      percent_ca_population  date  \n",
       "2545  percent_ca_population  date  "
      ]
     },
     "execution_count": 113,
     "metadata": {},
     "output_type": "execute_result"
    }
   ],
   "source": [
    "Ethnicity_df.loc[Ethnicity_df[\"race_ethnicity\"]==\"race_ethnicity\", : ]"
   ]
  },
  {
   "cell_type": "code",
   "execution_count": 114,
   "metadata": {},
   "outputs": [
    {
     "data": {
      "text/plain": [
       "White                                         636\n",
       "Latino                                        636\n",
       "Other                                         636\n",
       "American Indian or Alaska Native              636\n",
       "Black                                         636\n",
       "Asian                                         636\n",
       "Multi-Race                                    538\n",
       "Native Hawaiian and other Pacific Islander    538\n",
       "Multiracial                                    98\n",
       "Native Hawaiian or Pacific Islander            98\n",
       "Name: race_ethnicity, dtype: int64"
      ]
     },
     "execution_count": 114,
     "metadata": {},
     "output_type": "execute_result"
    }
   ],
   "source": [
    "#Cleaning up Ethnicity colmn \n",
    "\n",
    "Ethnicity_df=Ethnicity_df.loc[(Ethnicity_df[\"race_ethnicity\"]!=\"race_ethnicity\")]\n",
    "Ethnicity_df[\"race_ethnicity\"].value_counts()"
   ]
  },
  {
   "cell_type": "code",
   "execution_count": 125,
   "metadata": {},
   "outputs": [
    {
     "data": {
      "text/html": [
       "<div>\n",
       "<style scoped>\n",
       "    .dataframe tbody tr th:only-of-type {\n",
       "        vertical-align: middle;\n",
       "    }\n",
       "\n",
       "    .dataframe tbody tr th {\n",
       "        vertical-align: top;\n",
       "    }\n",
       "\n",
       "    .dataframe thead th {\n",
       "        text-align: right;\n",
       "    }\n",
       "</style>\n",
       "<table border=\"1\" class=\"dataframe\">\n",
       "  <thead>\n",
       "    <tr style=\"text-align: right;\">\n",
       "      <th></th>\n",
       "      <th>race_ethnicity</th>\n",
       "      <th>cases</th>\n",
       "      <th>case_percentage</th>\n",
       "      <th>deaths</th>\n",
       "      <th>death_percentage</th>\n",
       "      <th>percent_ca_population</th>\n",
       "      <th>date</th>\n",
       "    </tr>\n",
       "  </thead>\n",
       "  <tbody>\n",
       "    <tr>\n",
       "      <th>5082</th>\n",
       "      <td>Latino</td>\n",
       "      <td>1476643</td>\n",
       "      <td>55.2</td>\n",
       "      <td>22893</td>\n",
       "      <td>46.2</td>\n",
       "      <td>38.9</td>\n",
       "      <td>2/24/2021</td>\n",
       "    </tr>\n",
       "    <tr>\n",
       "      <th>5083</th>\n",
       "      <td>White</td>\n",
       "      <td>535706</td>\n",
       "      <td>20</td>\n",
       "      <td>15648</td>\n",
       "      <td>31.6</td>\n",
       "      <td>36.6</td>\n",
       "      <td>2/24/2021</td>\n",
       "    </tr>\n",
       "    <tr>\n",
       "      <th>5084</th>\n",
       "      <td>Asian</td>\n",
       "      <td>182235</td>\n",
       "      <td>6.8</td>\n",
       "      <td>5752</td>\n",
       "      <td>11.6</td>\n",
       "      <td>15.4</td>\n",
       "      <td>2/24/2021</td>\n",
       "    </tr>\n",
       "    <tr>\n",
       "      <th>5085</th>\n",
       "      <td>Black</td>\n",
       "      <td>108739</td>\n",
       "      <td>4.1</td>\n",
       "      <td>3089</td>\n",
       "      <td>6.2</td>\n",
       "      <td>6</td>\n",
       "      <td>2/24/2021</td>\n",
       "    </tr>\n",
       "    <tr>\n",
       "      <th>5086</th>\n",
       "      <td>Multi-Race</td>\n",
       "      <td>40752</td>\n",
       "      <td>1.5</td>\n",
       "      <td>626</td>\n",
       "      <td>1.3</td>\n",
       "      <td>2.2</td>\n",
       "      <td>2/24/2021</td>\n",
       "    </tr>\n",
       "    <tr>\n",
       "      <th>5087</th>\n",
       "      <td>American Indian or Alaska Native</td>\n",
       "      <td>8770</td>\n",
       "      <td>0.3</td>\n",
       "      <td>167</td>\n",
       "      <td>0.3</td>\n",
       "      <td>0.5</td>\n",
       "      <td>2/24/2021</td>\n",
       "    </tr>\n",
       "    <tr>\n",
       "      <th>5088</th>\n",
       "      <td>Native Hawaiian and other Pacific Islander</td>\n",
       "      <td>15097</td>\n",
       "      <td>0.6</td>\n",
       "      <td>302</td>\n",
       "      <td>0.6</td>\n",
       "      <td>0.3</td>\n",
       "      <td>2/24/2021</td>\n",
       "    </tr>\n",
       "    <tr>\n",
       "      <th>5089</th>\n",
       "      <td>Other</td>\n",
       "      <td>306466</td>\n",
       "      <td>11.5</td>\n",
       "      <td>1084</td>\n",
       "      <td>2.2</td>\n",
       "      <td>0</td>\n",
       "      <td>2/24/2021</td>\n",
       "    </tr>\n",
       "  </tbody>\n",
       "</table>\n",
       "</div>"
      ],
      "text/plain": [
       "                                  race_ethnicity    cases case_percentage  \\\n",
       "5082                                      Latino  1476643            55.2   \n",
       "5083                                       White   535706              20   \n",
       "5084                                       Asian   182235             6.8   \n",
       "5085                                       Black   108739             4.1   \n",
       "5086                                  Multi-Race    40752             1.5   \n",
       "5087            American Indian or Alaska Native     8770             0.3   \n",
       "5088  Native Hawaiian and other Pacific Islander    15097             0.6   \n",
       "5089                                       Other   306466            11.5   \n",
       "\n",
       "     deaths death_percentage percent_ca_population       date  \n",
       "5082  22893             46.2                  38.9  2/24/2021  \n",
       "5083  15648             31.6                  36.6  2/24/2021  \n",
       "5084   5752             11.6                  15.4  2/24/2021  \n",
       "5085   3089              6.2                     6  2/24/2021  \n",
       "5086    626              1.3                   2.2  2/24/2021  \n",
       "5087    167              0.3                   0.5  2/24/2021  \n",
       "5088    302              0.6                   0.3  2/24/2021  \n",
       "5089   1084              2.2                     0  2/24/2021  "
      ]
     },
     "execution_count": 125,
     "metadata": {},
     "output_type": "execute_result"
    }
   ],
   "source": [
    "#Tail end represents sum of statistics for ethnicities\n",
    "\n",
    "new_df=Ethnicity_df.tail(8)\n",
    "new_df"
   ]
  },
  {
   "cell_type": "code",
   "execution_count": 116,
   "metadata": {},
   "outputs": [],
   "source": [
    "# blah=Ethnicity_df[\"race_ethnicity\"]\n",
    "# Ethnicity_df[\"cases\"].astype(\"float\").sum()"
   ]
  },
  {
   "cell_type": "code",
   "execution_count": 129,
   "metadata": {},
   "outputs": [
    {
     "data": {
      "text/html": [
       "<div>\n",
       "<style scoped>\n",
       "    .dataframe tbody tr th:only-of-type {\n",
       "        vertical-align: middle;\n",
       "    }\n",
       "\n",
       "    .dataframe tbody tr th {\n",
       "        vertical-align: top;\n",
       "    }\n",
       "\n",
       "    .dataframe thead th {\n",
       "        text-align: right;\n",
       "    }\n",
       "</style>\n",
       "<table border=\"1\" class=\"dataframe\">\n",
       "  <thead>\n",
       "    <tr style=\"text-align: right;\">\n",
       "      <th></th>\n",
       "      <th>race_ethnicity</th>\n",
       "      <th>cases</th>\n",
       "      <th>case_percentage</th>\n",
       "      <th>deaths</th>\n",
       "      <th>death_percentage</th>\n",
       "      <th>percent_ca_population</th>\n",
       "      <th>date</th>\n",
       "    </tr>\n",
       "  </thead>\n",
       "  <tbody>\n",
       "    <tr>\n",
       "      <th>2835</th>\n",
       "      <td>Native Hawaiian or Pacific Islander</td>\n",
       "      <td>617</td>\n",
       "      <td>0.8</td>\n",
       "      <td>29</td>\n",
       "      <td>0.7</td>\n",
       "      <td>0.3</td>\n",
       "      <td>5/31/2020</td>\n",
       "    </tr>\n",
       "  </tbody>\n",
       "</table>\n",
       "</div>"
      ],
      "text/plain": [
       "                           race_ethnicity cases case_percentage deaths  \\\n",
       "2835  Native Hawaiian or Pacific Islander   617             0.8     29   \n",
       "\n",
       "     death_percentage percent_ca_population       date  \n",
       "2835              0.7                   0.3  5/31/2020  "
      ]
     },
     "execution_count": 129,
     "metadata": {},
     "output_type": "execute_result"
    }
   ],
   "source": [
    "Pacific_Islander=Ethnicity_df.loc[Ethnicity_df[\"race_ethnicity\"]==\"Native Hawaiian or Pacific Islander\"]\n",
    "pacific_df=Pacific_Islander.tail(1)\n"
   ]
  },
  {
   "cell_type": "code",
   "execution_count": 130,
   "metadata": {},
   "outputs": [
    {
     "data": {
      "text/html": [
       "<div>\n",
       "<style scoped>\n",
       "    .dataframe tbody tr th:only-of-type {\n",
       "        vertical-align: middle;\n",
       "    }\n",
       "\n",
       "    .dataframe tbody tr th {\n",
       "        vertical-align: top;\n",
       "    }\n",
       "\n",
       "    .dataframe thead th {\n",
       "        text-align: right;\n",
       "    }\n",
       "</style>\n",
       "<table border=\"1\" class=\"dataframe\">\n",
       "  <thead>\n",
       "    <tr style=\"text-align: right;\">\n",
       "      <th></th>\n",
       "      <th>race_ethnicity</th>\n",
       "      <th>cases</th>\n",
       "      <th>case_percentage</th>\n",
       "      <th>deaths</th>\n",
       "      <th>death_percentage</th>\n",
       "      <th>percent_ca_population</th>\n",
       "      <th>date</th>\n",
       "    </tr>\n",
       "  </thead>\n",
       "  <tbody>\n",
       "    <tr>\n",
       "      <th>2818</th>\n",
       "      <td>Multiracial</td>\n",
       "      <td>618</td>\n",
       "      <td>0.8</td>\n",
       "      <td>26</td>\n",
       "      <td>0.6</td>\n",
       "      <td>2.2</td>\n",
       "      <td>5/31/2020</td>\n",
       "    </tr>\n",
       "  </tbody>\n",
       "</table>\n",
       "</div>"
      ],
      "text/plain": [
       "     race_ethnicity cases case_percentage deaths death_percentage  \\\n",
       "2818    Multiracial   618             0.8     26              0.6   \n",
       "\n",
       "     percent_ca_population       date  \n",
       "2818                   2.2  5/31/2020  "
      ]
     },
     "execution_count": 130,
     "metadata": {},
     "output_type": "execute_result"
    }
   ],
   "source": [
    "Multiracial=Ethnicity_df.loc[Ethnicity_df[\"race_ethnicity\"]==\"Multiracial\"]\n",
    "multi_df=Multiracial.tail(1)\n"
   ]
  },
  {
   "cell_type": "code",
   "execution_count": 142,
   "metadata": {},
   "outputs": [
    {
     "data": {
      "text/html": [
       "<div>\n",
       "<style scoped>\n",
       "    .dataframe tbody tr th:only-of-type {\n",
       "        vertical-align: middle;\n",
       "    }\n",
       "\n",
       "    .dataframe tbody tr th {\n",
       "        vertical-align: top;\n",
       "    }\n",
       "\n",
       "    .dataframe thead th {\n",
       "        text-align: right;\n",
       "    }\n",
       "</style>\n",
       "<table border=\"1\" class=\"dataframe\">\n",
       "  <thead>\n",
       "    <tr style=\"text-align: right;\">\n",
       "      <th></th>\n",
       "      <th>Ethnicities</th>\n",
       "      <th>Cases</th>\n",
       "      <th>Deaths</th>\n",
       "    </tr>\n",
       "  </thead>\n",
       "  <tbody>\n",
       "    <tr>\n",
       "      <th>0</th>\n",
       "      <td>Latino</td>\n",
       "      <td>1476643</td>\n",
       "      <td>22893</td>\n",
       "    </tr>\n",
       "    <tr>\n",
       "      <th>1</th>\n",
       "      <td>White</td>\n",
       "      <td>535706</td>\n",
       "      <td>15648</td>\n",
       "    </tr>\n",
       "    <tr>\n",
       "      <th>2</th>\n",
       "      <td>Asian</td>\n",
       "      <td>182235</td>\n",
       "      <td>5752</td>\n",
       "    </tr>\n",
       "    <tr>\n",
       "      <th>3</th>\n",
       "      <td>Black</td>\n",
       "      <td>108739</td>\n",
       "      <td>3089</td>\n",
       "    </tr>\n",
       "    <tr>\n",
       "      <th>4</th>\n",
       "      <td>Multiracial</td>\n",
       "      <td>347836</td>\n",
       "      <td>1736</td>\n",
       "    </tr>\n",
       "    <tr>\n",
       "      <th>5</th>\n",
       "      <td>Native Hawaiian or Pacific Islander</td>\n",
       "      <td>15714</td>\n",
       "      <td>331</td>\n",
       "    </tr>\n",
       "    <tr>\n",
       "      <th>6</th>\n",
       "      <td>American Indian or Alaska Native</td>\n",
       "      <td>8770</td>\n",
       "      <td>167</td>\n",
       "    </tr>\n",
       "  </tbody>\n",
       "</table>\n",
       "</div>"
      ],
      "text/plain": [
       "                           Ethnicities    Cases  Deaths\n",
       "0                               Latino  1476643   22893\n",
       "1                                White   535706   15648\n",
       "2                                Asian   182235    5752\n",
       "3                                Black   108739    3089\n",
       "4                          Multiracial   347836    1736\n",
       "5  Native Hawaiian or Pacific Islander    15714     331\n",
       "6     American Indian or Alaska Native     8770     167"
      ]
     },
     "execution_count": 142,
     "metadata": {},
     "output_type": "execute_result"
    }
   ],
   "source": [
    "#creating list for new data frame.\n",
    "#combining multi-race, multi racial and other\n",
    "#combinging Native Hawaiian or Pacific Islander,Native Hawaiian and other Pacific Islander\n",
    "\n",
    "race_ethnicity=[\"Latino\",\"White\",\"Asian\",\"Black\",\"Multiracial\",\"Native Hawaiian or Pacific Islander\",\"American Indian or Alaska Native\"]\n",
    "cases=[1476643,535706,182235,108739,(40752+306466+618),(617+15097),8770]\n",
    "Deaths=[22893,15648,5752,3089,(626+1084+26),(302+29),167]\n",
    "\n",
    "Ethnic_df=pd.DataFrame({\"Ethnicities\":race_ethnicity,\n",
    "                       \"Cases\":cases,\n",
    "                       \"Deaths\":Deaths})\n",
    "\n",
    "Ethnic_df"
   ]
  },
  {
   "cell_type": "code",
   "execution_count": 144,
   "metadata": {},
   "outputs": [
    {
     "data": {
      "text/html": [
       "<div>\n",
       "<style scoped>\n",
       "    .dataframe tbody tr th:only-of-type {\n",
       "        vertical-align: middle;\n",
       "    }\n",
       "\n",
       "    .dataframe tbody tr th {\n",
       "        vertical-align: top;\n",
       "    }\n",
       "\n",
       "    .dataframe thead th {\n",
       "        text-align: right;\n",
       "    }\n",
       "</style>\n",
       "<table border=\"1\" class=\"dataframe\">\n",
       "  <thead>\n",
       "    <tr style=\"text-align: right;\">\n",
       "      <th></th>\n",
       "      <th>Cases</th>\n",
       "      <th>Deaths</th>\n",
       "    </tr>\n",
       "  </thead>\n",
       "  <tbody>\n",
       "    <tr>\n",
       "      <th>count</th>\n",
       "      <td>7.000000e+00</td>\n",
       "      <td>7.000000</td>\n",
       "    </tr>\n",
       "    <tr>\n",
       "      <th>mean</th>\n",
       "      <td>3.822347e+05</td>\n",
       "      <td>7088.000000</td>\n",
       "    </tr>\n",
       "    <tr>\n",
       "      <th>std</th>\n",
       "      <td>5.181826e+05</td>\n",
       "      <td>8784.927585</td>\n",
       "    </tr>\n",
       "    <tr>\n",
       "      <th>min</th>\n",
       "      <td>8.770000e+03</td>\n",
       "      <td>167.000000</td>\n",
       "    </tr>\n",
       "    <tr>\n",
       "      <th>25%</th>\n",
       "      <td>6.222650e+04</td>\n",
       "      <td>1033.500000</td>\n",
       "    </tr>\n",
       "    <tr>\n",
       "      <th>50%</th>\n",
       "      <td>1.822350e+05</td>\n",
       "      <td>3089.000000</td>\n",
       "    </tr>\n",
       "    <tr>\n",
       "      <th>75%</th>\n",
       "      <td>4.417710e+05</td>\n",
       "      <td>10700.000000</td>\n",
       "    </tr>\n",
       "    <tr>\n",
       "      <th>max</th>\n",
       "      <td>1.476643e+06</td>\n",
       "      <td>22893.000000</td>\n",
       "    </tr>\n",
       "  </tbody>\n",
       "</table>\n",
       "</div>"
      ],
      "text/plain": [
       "              Cases        Deaths\n",
       "count  7.000000e+00      7.000000\n",
       "mean   3.822347e+05   7088.000000\n",
       "std    5.181826e+05   8784.927585\n",
       "min    8.770000e+03    167.000000\n",
       "25%    6.222650e+04   1033.500000\n",
       "50%    1.822350e+05   3089.000000\n",
       "75%    4.417710e+05  10700.000000\n",
       "max    1.476643e+06  22893.000000"
      ]
     },
     "execution_count": 144,
     "metadata": {},
     "output_type": "execute_result"
    }
   ],
   "source": [
    "Ethnic_df.describe()"
   ]
  },
  {
   "cell_type": "code",
   "execution_count": 193,
   "metadata": {},
   "outputs": [
    {
     "data": {
      "text/plain": [
       "Text(0.5, 1.0, 'Percentage of Cases for Genders impacted by COVID in California')"
      ]
     },
     "execution_count": 193,
     "metadata": {},
     "output_type": "execute_result"
    },
    {
     "data": {
      "image/png": "[encoded data removed]",
      "text/plain": [
       "<Figure size 432x288 with 1 Axes>"
      ]
     },
     "metadata": {},
     "output_type": "display_data"
    }
   ],
   "source": [
    "#Pie chart of the percentage(%) of genders impacted in California \n",
    "sizes=Ethnic_df[\"Cases\"]\n",
    "\n",
    "labels=Ethnic_df[\"Ethnicities\"].unique()\n",
    "\n",
    "explode= (0.05,0.05,0.05,0.1,0.05,0.5,0.2)\n",
    "\n",
    "plt.pie(sizes, labels=labels,explode=explode,\n",
    "        autopct=\"%1.1f%%\", shadow=True, startangle=140)\n",
    "\n",
    "plt.title(\"Percentage of Cases for Genders impacted by COVID in California\")"
   ]
  },
  {
   "cell_type": "code",
   "execution_count": 158,
   "metadata": {},
   "outputs": [
    {
     "data": {
      "image/png": "[encoded data removed]",
      "text/plain": [
       "<Figure size 432x288 with 1 Axes>"
      ]
     },
     "metadata": {
      "needs_background": "light"
     },
     "output_type": "display_data"
    }
   ],
   "source": [
    "Ethincities = Ethnic_df[\"Ethnicities\"]\n",
    "Cases_load = Ethnic_df[\"Cases\"]\n",
    "plt.title(\"Number of cases per Ethnicity\")\n",
    "plt.ylabel(\"Number of cases (per million)\")\n",
    "plt.xlabel(\"Ethnicity\")\n",
    "width = 0.5 \n",
    "plt.xticks(rotation=90)\n",
    "plt.bar(Ethincities, Cases_load, width)\n",
    "plt.tick_params(axis=\"x\", which=\"major\", labelsize=12)\n",
    "plt.ylim([0,1500000])\n",
    "plt.show()"
   ]
  },
  {
   "cell_type": "code",
   "execution_count": 163,
   "metadata": {},
   "outputs": [
    {
     "data": {
      "image/png": "[encoded data removed]",
      "text/plain": [
       "<Figure size 432x288 with 1 Axes>"
      ]
     },
     "metadata": {
      "needs_background": "light"
     },
     "output_type": "display_data"
    }
   ],
   "source": [
    "Ethincities = Ethnic_df[\"Ethnicities\"]\n",
    "Cases_load = Ethnic_df[\"Cases\"]\n",
    "plt.title(\"Number of cases per Ethnicity\")\n",
    "plt.ylabel(\"Number of cases (per million)\")\n",
    "plt.xlabel(\"Ethnicity\")\n",
    "plt.xticks(rotation=90)\n",
    "plt.tick_params(axis=\"x\", which=\"major\", labelsize=12)\n",
    "plt.scatter(Ethincities, Cases_load)\n",
    "plt.grid(True)\n",
    "plt.show()"
   ]
  },
  {
   "cell_type": "code",
   "execution_count": 171,
   "metadata": {},
   "outputs": [
    {
     "data": {
      "image/png": "[encoded data removed]",
      "text/plain": [
       "<Figure size 432x288 with 1 Axes>"
      ]
     },
     "metadata": {
      "needs_background": "light"
     },
     "output_type": "display_data"
    }
   ],
   "source": [
    "Ethincities = Ethnic_df[\"Ethnicities\"]\n",
    "Cases_load = Ethnic_df[\"Cases\"]\n",
    "plt.title(\"Number of cases per Ethnicity\")\n",
    "plt.ylabel(\"Number of cases (per million)\")\n",
    "plt.xlabel(\"Ethnicity\")\n",
    "plt.xticks(rotation=90)\n",
    "plt.tick_params(axis=\"x\", which=\"major\", labelsize=12)\n",
    "plt.plot(Ethincities, Cases_load)\n",
    "plt.grid(True)\n",
    "plt.show()"
   ]
  },
  {
   "cell_type": "code",
   "execution_count": 198,
   "metadata": {},
   "outputs": [
    {
     "data": {
      "text/plain": [
       "Text(0.5, 1.0, 'Percentage of Deaths for Ethnicities impacted by COVID in California')"
      ]
     },
     "execution_count": 198,
     "metadata": {},
     "output_type": "execute_result"
    },
    {
     "data": {
      "image/png": "[encoded data removed]",
      "text/plain": [
       "<Figure size 432x288 with 1 Axes>"
      ]
     },
     "metadata": {},
     "output_type": "display_data"
    }
   ],
   "source": [
    "#Pie chart of the percentage(%) of genders impacted in California \n",
    "size=Ethnic_df[\"Deaths\"]\n",
    "\n",
    "label=Ethnic_df[\"Ethnicities\"].unique()\n",
    "\n",
    "explode= (0.1,0.05,0.05,0.1,0.6,0.5,0.3)\n",
    "\n",
    "plt.pie(size, labels=label,explode=explode,\n",
    "        autopct=\"%1.1f%%\", shadow=True, startangle=140)\n",
    "\n",
    "plt.title(\"Percentage of Deaths for Ethnicities impacted by COVID in California\")"
   ]
  },
  {
   "cell_type": "code",
   "execution_count": 173,
   "metadata": {},
   "outputs": [
    {
     "data": {
      "image/png": "[encoded data removed]",
      "text/plain": [
       "<Figure size 432x288 with 1 Axes>"
      ]
     },
     "metadata": {
      "needs_background": "light"
     },
     "output_type": "display_data"
    }
   ],
   "source": [
    "Ethincities_deaths = Ethnic_df[\"Ethnicities\"]\n",
    "Number_deaths = Ethnic_df[\"Deaths\"]\n",
    "plt.title(\"Number of cases per Ethnicity\")\n",
    "plt.ylabel(\"Number of Deaths (per million)\")\n",
    "plt.xlabel(\"Ethnicity\")\n",
    "width = 0.5 \n",
    "plt.xticks(rotation=90)\n",
    "plt.bar(Ethincities_deaths, Number_deaths, width)\n",
    "plt.tick_params(axis=\"x\", which=\"major\", labelsize=12)\n",
    "plt.show()"
   ]
  },
  {
   "cell_type": "code",
   "execution_count": 181,
   "metadata": {},
   "outputs": [
    {
     "data": {
      "image/png": "[encoded data removed]",
      "text/plain": [
       "<Figure size 432x288 with 1 Axes>"
      ]
     },
     "metadata": {
      "needs_background": "light"
     },
     "output_type": "display_data"
    }
   ],
   "source": [
    "Ethincities_deaths = Ethnic_df[\"Ethnicities\"]\n",
    "Number_deaths = Ethnic_df[\"Deaths\"]\n",
    "plt.title(\"Number of cases per Ethnicity\")\n",
    "plt.ylabel(\"Number of Deaths (per million)\")\n",
    "plt.xlabel(\"Ethnicity\")\n",
    "width = 0.5 \n",
    "plt.xticks(rotation=90)\n",
    "plt.tick_params(axis=\"x\", which=\"major\", labelsize=12)\n",
    "plt.scatter(Ethincities_deaths, Number_deaths)\n",
    "plt.grid(True)\n",
    "plt.show()"
   ]
  },
  {
   "cell_type": "code",
   "execution_count": 174,
   "metadata": {},
   "outputs": [
    {
     "data": {
      "image/png": "[encoded data removed]",
      "text/plain": [
       "<Figure size 432x288 with 1 Axes>"
      ]
     },
     "metadata": {
      "needs_background": "light"
     },
     "output_type": "display_data"
    }
   ],
   "source": [
    "Ethincities_deaths = Ethnic_df[\"Ethnicities\"]\n",
    "Number_deaths = Ethnic_df[\"Deaths\"]\n",
    "plt.title(\"Number of cases per Ethnicity\")\n",
    "plt.ylabel(\"Number of Deaths (per million)\")\n",
    "plt.xlabel(\"Ethnicity\")\n",
    "width = 0.5 \n",
    "plt.xticks(rotation=90)\n",
    "plt.plot(Ethincities_deaths, Number_deaths, width)\n",
    "plt.tick_params(axis=\"x\", which=\"major\", labelsize=12)\n",
    "plt.show()"
   ]
  },
  {
   "cell_type": "code",
   "execution_count": 178,
   "metadata": {},
   "outputs": [],
   "source": [
    "#Latino Cases Per month \n",
    "\n",
    "Latino=Ethnicity_df.loc[Ethnicity_df[\"race_ethnicity\"]==\"Latino\"]\n",
    "Latino_April=Latino.iloc[0:18, 0:7]\n",
    "Latino_April.head()\n",
    "\n",
    "Latino_May=Latino.iloc[18:49, 0:7]\n",
    "Latino_June=Latino.iloc[49:79, 0:7]\n",
    "Latino_July=Latino.iloc[79:111, 0:7]\n",
    "Latino_August=Latino.iloc[111:141, 0:7]\n",
    "Latino_September=Latino.iloc[141:171, 0:7]\n",
    "Latino_October=Latino.iloc[171:202, 0:7]\n",
    "Latino_November=Latino.iloc[202:232, 0:7]\n",
    "Latino_December=Latino.iloc[232:263, 0:7]\n",
    "Latino_January=Latino.iloc[263:294, 0:7]\n",
    "Latino_February=Latino.iloc[294:318, 0:7]\n"
   ]
  },
  {
   "cell_type": "code",
   "execution_count": 39,
   "metadata": {},
   "outputs": [],
   "source": [
    "#Other cases per month \n",
    "\n",
    "Other=Ethnicity_df.loc[Ethnicity_df[\"race_ethnicity\"]==\"Other\"]\n",
    "Other_April=Other.iloc[0:18, 0:7]\n",
    "Other_May=Other.iloc[18:49, 0:7]\n",
    "Other_June=Other.iloc[49:79, 0:7]\n",
    "Other_July=Other.iloc[79:111, 0:7]\n",
    "Other_August=Other.iloc[111:141, 0:7]\n",
    "Other_September=Other.iloc[141:171, 0:7]\n",
    "Other_October=Other.iloc[171:202, 0:7]\n",
    "Other_November=Other.iloc[202:232, 0:7]\n",
    "Other_December=Other.iloc[232:263, 0:7]\n",
    "Other_January=Other.iloc[263:294, 0:7]\n",
    "Other_February=Other.iloc[294:318, 0:7]"
   ]
  },
  {
   "cell_type": "code",
   "execution_count": 40,
   "metadata": {},
   "outputs": [],
   "source": [
    "#American Indian or Alaska Native  cases per month \n",
    "\n",
    "Idian_Alaska=Ethnicity_df.loc[Ethnicity_df[\"race_ethnicity\"]==\"American Indian or Alaska Native \"]\n",
    "Idian_Alaska_April=Idian_Alaska.iloc[0:18, 0:7]\n",
    "Idian_Alaska_May=Idian_Alaska.iloc[18:49, 0:7]\n",
    "Idian_Alaska_June=Idian_Alaska.iloc[49:79, 0:7]\n",
    "Idian_Alaska_July=Idian_Alaska.iloc[79:111, 0:7]\n",
    "Idian_Alaska_August=Idian_Alaska.iloc[111:141, 0:7]\n",
    "Idian_Alaska_September=Idian_Alaska.iloc[141:171, 0:7]\n",
    "Idian_Alaska_October=Idian_Alaska.iloc[171:202, 0:7]\n",
    "Idian_Alaska_November=Idian_Alaska.iloc[202:232, 0:7]\n",
    "Idian_Alaska_December=Idian_Alaska.iloc[232:263, 0:7]\n",
    "Idian_Alaska_January=Idian_Alaska.iloc[263:294, 0:7]\n",
    "Idian_Alaska_February=Idian_Alaska.iloc[294:318, 0:7]                              "
   ]
  },
  {
   "cell_type": "code",
   "execution_count": 64,
   "metadata": {},
   "outputs": [],
   "source": [
    "#Black cases per month \n",
    "\n",
    "Black=Ethnicity_df.loc[Ethnicity_df[\"race_ethnicity\"]==\"Black\"]\n",
    "Black_April=Black.iloc[0:18, 0:7]\n",
    "Black_May=Black.iloc[18:49, 0:7]\n",
    "Black_June=Black.iloc[49:79, 0:7]\n",
    "Black_July=Black.iloc[79:111, 0:7]\n",
    "Black_August=Black.iloc[111:141, 0:7]\n",
    "Black_September=Black.iloc[141:171, 0:7]\n",
    "Black_October=Black.iloc[171:202, 0:7]\n",
    "Black_November=Black.iloc[202:232, 0:7]\n",
    "Black_December=Black.iloc[232:263, 0:7]\n",
    "Black_January=Black.iloc[263:294, 0:7]\n",
    "Black_February=Black.iloc[294:318, 0:7]\n",
    "\n"
   ]
  },
  {
   "cell_type": "code",
   "execution_count": 42,
   "metadata": {},
   "outputs": [],
   "source": [
    "#Asian cases per month \n",
    "\n",
    "Asian=Ethnicity_df.loc[Ethnicity_df[\"race_ethnicity\"]==\"Asian\"]\n",
    "Asian_April=Asian.iloc[0:18, 0:7]\n",
    "Asian_May=Asian.iloc[18:49, 0:7]\n",
    "Asian_June=Asian.iloc[49:79, 0:7]\n",
    "Asian_July=Asian.iloc[79:111, 0:7]\n",
    "Asian_August=Asian.iloc[111:141, 0:7]\n",
    "Asian_September=Asian.iloc[141:171, 0:7]\n",
    "Asian_October=Asian.iloc[171:202, 0:7]\n",
    "Asian_November=Asian.iloc[202:232, 0:7]\n",
    "Asian_December=Asian.iloc[232:263, 0:7]\n",
    "Asian_January=Asian.iloc[263:294, 0:7]\n",
    "Asian_February=Asian.iloc[294:318, 0:7]"
   ]
  },
  {
   "cell_type": "code",
   "execution_count": 43,
   "metadata": {},
   "outputs": [],
   "source": [
    "#Multi-Race cases per month \n",
    "\n",
    "Multi_Race=Ethnicity_df.loc[Ethnicity_df[\"race_ethnicity\"]==\"Multi-Race\"]\n",
    "Multi_Race_April=Multi_Race.iloc[0:18, 0:7]\n",
    "Multi_Race_May=Multi_Race.iloc[18:49, 0:7]\n",
    "Multi_Race_June=Multi_Race.iloc[49:79, 0:7]\n",
    "Multi_Race_July=Multi_Race.iloc[79:111, 0:7]\n",
    "Multi_Race_August=Multi_Race.iloc[111:141, 0:7]\n",
    "Multi_Race_September=Multi_Race.iloc[141:171, 0:7]\n",
    "Multi_Race_October=Multi_Race.iloc[171:202, 0:7]\n",
    "Multi_Race_November=Multi_Race.iloc[202:232, 0:7]\n",
    "Multi_Race_December=Multi_Race.iloc[232:263, 0:7]\n",
    "Multi_Race_January=Multi_Race.iloc[263:294, 0:7]\n",
    "Multi_Race_February=Multi_Race.iloc[294:318, 0:7]"
   ]
  },
  {
   "cell_type": "code",
   "execution_count": 172,
   "metadata": {},
   "outputs": [],
   "source": [
    "#Native Hawaiian and other Pacific Islander  cases per month \n",
    "\n",
    "Hawaiian_Pacific=Ethnicity_df.loc[Ethnicity_df[\"race_ethnicity\"]==\"Native Hawaiian and other Pacific Islander \"]\n",
    "Hawaiian_Pacific_April=Hawaiian_Pacific.iloc[0:18, 0:7]\n",
    "Hawaiian_Pacific_May=Hawaiian_Pacific.iloc[18:49, 0:7]\n",
    "Hawaiian_Pacific_June=Hawaiian_Pacific.iloc[49:79, 0:7]\n",
    "Hawaiian_Pacific_July=Hawaiian_Pacific.iloc[79:111, 0:7]\n",
    "Hawaiian_Pacific_August=Hawaiian_Pacific.iloc[111:141, 0:7]\n",
    "Hawaiian_Pacific_September=Hawaiian_Pacific.iloc[141:171, 0:7]\n",
    "Hawaiian_Pacific_October=Hawaiian_Pacific.iloc[171:202, 0:7]\n",
    "Hawaiian_Pacific_November=Hawaiian_Pacific.iloc[202:232, 0:7]\n",
    "Hawaiian_Pacific_December=Hawaiian_Pacific.iloc[232:263, 0:7]\n",
    "Hawaiian_Pacific_January=Hawaiian_Pacific.iloc[263:294, 0:7]\n",
    "Hawaiian_Pacific_February=Hawaiian_Pacific.iloc[294:318, 0:7]\n",
    "\n"
   ]
  },
  {
   "cell_type": "code",
   "execution_count": 45,
   "metadata": {},
   "outputs": [],
   "source": [
    "#Native Hawaiian or Pacific Islander  cases per month \n",
    "\n",
    "Pacific_Islander=Ethnicity_df.loc[Ethnicity_df[\"race_ethnicity\"]==\"Native Hawaiian or Pacific Islander \"]\n",
    "Pacific_Islander_April=Pacific_Islander.iloc[0:18, 0:7]\n",
    "Pacific_Islander_May=Pacific_Islander.iloc[18:49, 0:7]\n",
    "Pacific_Islander_June=Pacific_Islander.iloc[49:79, 0:7]\n",
    "Pacific_Islander_July=Pacific_Islander.iloc[79:111, 0:7]\n",
    "Pacific_Islander_August=Pacific_Islander.iloc[111:141, 0:7]\n",
    "Pacific_Islander_September=Pacific_Islander.iloc[141:171, 0:7]\n",
    "Pacific_Islander_October=Pacific_Islander.iloc[171:202, 0:7]\n",
    "Pacific_Islander_November=Pacific_Islander.iloc[202:232, 0:7]\n",
    "Pacific_Islander_December=Pacific_Islander.iloc[232:263, 0:7]\n",
    "Pacific_Islander_January=Pacific_Islander.iloc[263:294, 0:7]\n",
    "Pacific_Islander_February=Pacific_Islander.iloc[294:318, 0:7]"
   ]
  },
  {
   "cell_type": "code",
   "execution_count": 49,
   "metadata": {},
   "outputs": [],
   "source": [
    "#Multiracial cases per month \n",
    "\n",
    "Multiracial=Ethnicity_df.loc[Ethnicity_df[\"race_ethnicity\"]==\"Multiracial\"]\n",
    "Multiracial_April=Asian.iloc[0:18, 0:7]\n",
    "Multiracial_May=Asian.iloc[18:49, 0:7]\n",
    "Multiracial_June=Asian.iloc[49:79, 0:7]\n",
    "Multiracial_July=Asian.iloc[79:111, 0:7]\n",
    "Multiracial_August=Asian.iloc[111:141, 0:7]\n",
    "Multiracial_September=Asian.iloc[141:171, 0:7]\n",
    "Multiracial_October=Asian.iloc[171:202, 0:7]\n",
    "Multiracial_November=Asian.iloc[202:232, 0:7]\n",
    "Multiracial_December=Asian.iloc[232:263, 0:7]\n",
    "Multiracial_January=Asian.iloc[263:294, 0:7]\n",
    "Multiracial_February=Asian.iloc[294:318, 0:7]\n"
   ]
  },
  {
   "cell_type": "code",
   "execution_count": null,
   "metadata": {},
   "outputs": [],
   "source": []
  },
  {
   "cell_type": "code",
   "execution_count": null,
   "metadata": {},
   "outputs": [],
   "source": []
  },
  {
   "cell_type": "code",
   "execution_count": null,
   "metadata": {},
   "outputs": [],
   "source": []
  },
  {
   "cell_type": "code",
   "execution_count": null,
   "metadata": {},
   "outputs": [],
   "source": []
  },
  {
   "cell_type": "code",
   "execution_count": null,
   "metadata": {},
   "outputs": [],
   "source": []
  },
  {
   "cell_type": "code",
   "execution_count": null,
   "metadata": {},
   "outputs": [],
   "source": []
  },
  {
   "cell_type": "code",
   "execution_count": null,
   "metadata": {},
   "outputs": [],
   "source": []
  }
 ],
 "metadata": {
  "kernelspec": {
   "display_name": "Python 3",
   "language": "python",
   "name": "python3"
  },
  "language_info": {
   "codemirror_mode": {
    "name": "ipython",
    "version": 3
   },
   "file_extension": ".py",
   "mimetype": "text/x-python",
   "name": "python",
   "nbconvert_exporter": "python",
   "pygments_lexer": "ipython3",
   "version": "3.8.5"
  }
 },
 "nbformat": 4,
 "nbformat_minor": 4
}
