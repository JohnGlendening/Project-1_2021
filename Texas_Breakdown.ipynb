{
 "cells": [
  {
   "cell_type": "code",
   "execution_count": 1,
   "metadata": {},
   "outputs": [],
   "source": [
    "import matplotlib.pyplot as plt\n",
    "import pandas as pd\n",
    "\n",
    "#data files\n",
    "age_fatalities = \"Texas COVID-19 cases by fatalities age group.csv\"\n",
    "gender_fatalities = \"Texas COVID-19 cases by fatalities gender.csv\"\n",
    "gender_cases = \"Texas COVID-19 cases by gender.csv\"\n",
    "race_fatalities = \"Texas COVID-19 cases by fatalities race.csv\"\n",
    "race_cases = \"Texas COVID-19 cases by race.csv\""
   ]
  },
  {
   "cell_type": "code",
   "execution_count": null,
   "metadata": {},
   "outputs": [],
   "source": []
  }
 ],
 "metadata": {
  "kernelspec": {
   "display_name": "Python 3",
   "language": "python",
   "name": "python3"
  },
  "language_info": {
   "codemirror_mode": {
    "name": "ipython",
    "version": 3
   },
   "file_extension": ".py",
   "mimetype": "text/x-python",
   "name": "python",
   "nbconvert_exporter": "python",
   "pygments_lexer": "ipython3",
   "version": "3.8.5"
  }
 },
 "nbformat": 4,
 "nbformat_minor": 4
}
